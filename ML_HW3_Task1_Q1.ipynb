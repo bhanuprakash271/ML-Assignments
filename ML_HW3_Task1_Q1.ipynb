{
  "nbformat": 4,
  "nbformat_minor": 0,
  "metadata": {
    "colab": {
      "provenance": []
    },
    "kernelspec": {
      "name": "python3",
      "display_name": "Python 3"
    },
    "language_info": {
      "name": "python"
    }
  },
  "cells": [
    {
      "cell_type": "code",
      "execution_count": 23,
      "metadata": {
        "id": "2hx8p_FvAb8q"
      },
      "outputs": [],
      "source": [
        "import math\n",
        "import random\n",
        "import time\n",
        "import pandas as pd\n",
        "import numpy as np\n",
        "import matplotlib.pyplot as plt\n",
        "from collections import defaultdict"
      ]
    },
    {
      "cell_type": "code",
      "source": [
        "def isValidNumberString(s):\n",
        "  if len(s) == 0:\n",
        "    return False\n",
        "  if  len(s) > 1 and s[0] == \"-\":\n",
        "      s = s[1:]\n",
        "  for c in s:\n",
        "    if c not in \"0123456789.\":\n",
        "      return False\n",
        "  return True\n"
      ],
      "metadata": {
        "id": "sV_v2DATDK9m"
      },
      "execution_count": 24,
      "outputs": []
    },
    {
      "cell_type": "code",
      "source": [
        "def stringsToNumbers(myList):\n",
        "    for i in range(len(myList)):\n",
        "        if (isValidNumberString(myList[i])):\n",
        "            myList[i] = float(myList[i])"
      ],
      "metadata": {
        "id": "ny_BvxtoDF4-"
      },
      "execution_count": 25,
      "outputs": []
    },
    {
      "cell_type": "code",
      "source": [
        "def lineToTuple(line):\n",
        "    # remove leading/trailing witespace and newlines\n",
        "    cleanLine = line.strip()\n",
        "    # get rid of quotes\n",
        "    cleanLine = cleanLine.replace('\"', '')\n",
        "    # separate the fields\n",
        "    lineList = cleanLine.split(\",\")\n",
        "    # convert strings into numbers\n",
        "    stringsToNumbers(lineList)\n",
        "    lineTuple = tuple(lineList)\n",
        "    return lineTuple"
      ],
      "metadata": {
        "id": "RE2ktIDeDC_L"
      },
      "execution_count": 26,
      "outputs": []
    },
    {
      "cell_type": "code",
      "source": [
        "def loadCSV(fileName):\n",
        "    fileHandler = open(fileName, \"rt\")\n",
        "    lines = fileHandler.readlines()\n",
        "    fileHandler.close()\n",
        "    del lines[0] # remove the header\n",
        "    dataset = []\n",
        "    for line in lines:\n",
        "        instance = lineToTuple(line)\n",
        "        dataset.append(instance)\n",
        "    return dataset"
      ],
      "metadata": {
        "id": "w78E9ULQC0ev"
      },
      "execution_count": 27,
      "outputs": []
    },
    {
      "cell_type": "code",
      "source": [
        "def printTable(instances):\n",
        "    for instance in instances:\n",
        "        if instance != None:\n",
        "            line = instance[0] + \"\\t\"\n",
        "            for i in range(1, len(instance)):\n",
        "                line += \"%.2f \" % instance[i]\n",
        "            print(line)"
      ],
      "metadata": {
        "id": "AGmt9uNZSwg5"
      },
      "execution_count": 28,
      "outputs": []
    },
    {
      "cell_type": "code",
      "source": [
        "def extractAttribute(instances, index):\n",
        "    result = []\n",
        "    for instance in instances:\n",
        "        result.append(instance[index])\n",
        "    return result\n"
      ],
      "metadata": {
        "id": "3ZhVLni4Sx23"
      },
      "execution_count": 29,
      "outputs": []
    },
    {
      "cell_type": "code",
      "source": [
        "def euclidean_distance(instance1, instance2):\n",
        "    if instance1 == None or instance2 == None:\n",
        "        return float(\"inf\")\n",
        "    distance = 0\n",
        "    for i in range(1, len(instance1)):\n",
        "        distance += (instance1[i] - instance2[i])**2\n",
        "    return math.sqrt(distance)"
      ],
      "metadata": {
        "id": "kzgWasbLC4iz"
      },
      "execution_count": 30,
      "outputs": []
    },
    {
      "cell_type": "code",
      "source": [
        "def cosine_distance(instance1, instance2):\n",
        "  if instance1 == None or instance2 == None:\n",
        "        return float(\"inf\")\n",
        "  A = np.array(instance1[1:],dtype=float)\n",
        "  B = np.array(instance2[1:],dtype=float)\n",
        "  distance = 1 - np.dot(A,B)/(np.linalg.norm(A)*np.linalg.norm(B))\n",
        "  return distance"
      ],
      "metadata": {
        "id": "awEhCd-bvPI2"
      },
      "execution_count": 31,
      "outputs": []
    },
    {
      "cell_type": "code",
      "source": [
        "def jaccard(instance1, instance2):\n",
        "  if instance1 == None or instance2 == None:\n",
        "        return float(\"inf\")\n",
        "  A = np.array(instance1[1:],dtype=float)\n",
        "  B = np.array(instance2[1:],dtype=float)\n",
        "  return 1 - (np.sum(np.minimum(A,B), axis = 0)/np.sum(np.maximum(A, B), axis = 0)) "
      ],
      "metadata": {
        "id": "hT6zgRGO0M5q"
      },
      "execution_count": 32,
      "outputs": []
    },
    {
      "cell_type": "code",
      "source": [
        "def calculateSSE(instance1, instance2):\n",
        "    if instance1 == None or instance2 == None:\n",
        "        return float(\"inf\")\n",
        "    sumOfSquares = 0\n",
        "    for i in range(1, len(instance1)):\n",
        "        sumOfSquares += (instance1[i] - instance2[i])**2\n",
        "    return sumOfSquares"
      ],
      "metadata": {
        "id": "rXQ2NR8wafNd"
      },
      "execution_count": 33,
      "outputs": []
    },
    {
      "cell_type": "code",
      "source": [
        "def meanInstance(name, instanceList):\n",
        "    numInstances = len(instanceList)\n",
        "    if (numInstances == 0):\n",
        "        return\n",
        "    numAttributes = len(instanceList[0])\n",
        "    means = [name] + [0] * (numAttributes-1)\n",
        "    for instance in instanceList:\n",
        "        for i in range(1, numAttributes):\n",
        "            means[i] += instance[i]\n",
        "    for i in range(1, numAttributes):\n",
        "        means[i] /= float(numInstances)\n",
        "    return tuple(means)"
      ],
      "metadata": {
        "id": "kSoEYPPiSQbw"
      },
      "execution_count": 34,
      "outputs": []
    },
    {
      "cell_type": "code",
      "source": [
        "def assign(instance, centroids, dist_func):\n",
        "  if(dist_func == \"Euclidean\"):\n",
        "    minDistance = euclidean_distance(instance, centroids[0])\n",
        "  elif(dist_func == \"Cosine\"):\n",
        "    minDistance = cosine_distance(instance, centroids[0])\n",
        "  else:\n",
        "    minDistance = jaccard(instance, centroids[0])\n",
        "\n",
        "  minDistanceIndex = 0\n",
        "  for i in range(1, len(centroids)):\n",
        "      if(dist_func == \"Euclidean\"):\n",
        "        d = euclidean_distance(instance, centroids[i])\n",
        "      elif(dist_func == \"Cosine\"):\n",
        "        d = cosine_distance(instance, centroids[i])\n",
        "      else:\n",
        "        d = jaccard(instance, centroids[i])\n",
        "      if (d < minDistance):\n",
        "          minDistance = d\n",
        "          minDistanceIndex = i\n",
        "  return minDistanceIndex"
      ],
      "metadata": {
        "id": "4xTBOfCrSQ9Q"
      },
      "execution_count": 35,
      "outputs": []
    },
    {
      "cell_type": "code",
      "source": [
        "def createEmptyListOfLists(numSubLists):\n",
        "    myList = []\n",
        "    for i in range(numSubLists):\n",
        "        myList.append([])\n",
        "    return myList"
      ],
      "metadata": {
        "id": "OyzWrqZBSSp6"
      },
      "execution_count": 36,
      "outputs": []
    },
    {
      "cell_type": "code",
      "source": [
        "def assignAll(instances, centroids, dist_func):\n",
        "    clusters = createEmptyListOfLists(len(centroids))\n",
        "    for instance in instances:\n",
        "        clusterIndex = assign(instance, centroids, dist_func)\n",
        "        clusters[clusterIndex].append(instance)\n",
        "    return clusters"
      ],
      "metadata": {
        "id": "W5-J17pFST9Q"
      },
      "execution_count": 37,
      "outputs": []
    },
    {
      "cell_type": "code",
      "source": [
        "def computeCentroids(clusters):\n",
        "    centroids = []\n",
        "    for i in range(len(clusters)):\n",
        "        name = \"centroid\" + str(i)\n",
        "        centroid = meanInstance(name, clusters[i])\n",
        "        centroids.append(centroid)\n",
        "    return centroids"
      ],
      "metadata": {
        "id": "02xforyvSVWr"
      },
      "execution_count": 38,
      "outputs": []
    },
    {
      "cell_type": "code",
      "source": [
        "\n",
        "def kmeans(instances, k, dist_func,initCentroids=None):\n",
        "\n",
        "    result = {}\n",
        "    sse_list=[]\n",
        "    if (initCentroids == None or len(initCentroids) < k):\n",
        "        # randomly select k initial centroids\n",
        "        random.seed(time.time())\n",
        "        centroids = random.sample(instances, k)\n",
        "    else:\n",
        "        centroids = initCentroids\n",
        "    prevCentroids = []\n",
        "\n",
        "    iteration = 0\n",
        "    start = time.time()\n",
        "    while (centroids != prevCentroids):\n",
        "        #if(iteration > 50):\n",
        "        #  break\n",
        "        iteration += 1\n",
        "        clusters = assignAll(instances, centroids,dist_func)\n",
        "\n",
        "        prevCentroids = centroids\n",
        "        centroids = computeCentroids(clusters)\n",
        "        withinss = computeWithinss(clusters, centroids)\n",
        "\n",
        "        sse_list.append(withinss)\n",
        "\n",
        "    result[\"clusters\"] = clusters\n",
        "    result[\"centroids\"] = centroids\n",
        "    result[\"withinss\"] = withinss\n",
        "    result[\"SSE\"] = sse_list\n",
        "    result[\"iterations\"] = iteration\n",
        "   # print(\"Time taken:\", time.time() - start)\n",
        "    return result"
      ],
      "metadata": {
        "id": "ahTmGdJ8SZ-c"
      },
      "execution_count": 39,
      "outputs": []
    },
    {
      "cell_type": "code",
      "source": [
        "def computeWithinss(clusters, centroids):\n",
        "    result = 0\n",
        "    for i in range(len(centroids)):\n",
        "        centroid = centroids[i]\n",
        "        cluster = clusters[i]\n",
        "        for instance in cluster:\n",
        "            result += calculateSSE(centroid, instance)\n",
        "    return result\n"
      ],
      "metadata": {
        "id": "vXO6A1s7Sc1S"
      },
      "execution_count": 40,
      "outputs": []
    },
    {
      "cell_type": "code",
      "source": [
        "dataset = loadCSV(\"data.csv\")\n",
        "print(f'===== Euclidean =====')\n",
        "euclidean_clustering = kmeans(dataset, 10,\"Euclidean\")\n",
        "print(f'List of SSE: ',euclidean_clustering[\"SSE\"])"
      ],
      "metadata": {
        "id": "5tx2v5DiSgBj",
        "colab": {
          "base_uri": "https://localhost:8080/"
        },
        "outputId": "89373345-9ee1-46cb-d66a-65d9addb98ea"
      },
      "execution_count": 41,
      "outputs": [
        {
          "output_type": "stream",
          "name": "stdout",
          "text": [
            "===== Euclidean =====\n",
            "List of SSE:  [27917074121.523205, 26775873976.08951, 26265015528.52319, 25979038131.553997, 25850645430.822266, 25770255880.964504, 25701932869.85813, 25623542191.39995, 25560387219.488422, 25531493104.001617, 25514741417.28083, 25499098059.453377, 25482269990.413998, 25465469564.287975, 25449110946.886578, 25434649152.81702, 25422267133.615936, 25412818608.070465, 25406129465.5411, 25401383131.042393, 25398535164.476086, 25396073802.111225, 25393798811.377357, 25392595641.247116, 25391040218.34923, 25389954702.250835, 25388909878.922306, 25387951598.368145, 25386927786.39087, 25385965983.275604, 25385454364.964687, 25384999245.573887, 25384593114.09205, 25384183563.10846, 25383952569.981426, 25383738375.927803, 25383576500.342953, 25383438417.252323, 25383379182.066257, 25383342272.88517, 25383325605.334656, 25383286740.534073, 25383253560.248787, 25383229986.514698, 25383204947.26184, 25383204947.26184]\n"
          ]
        }
      ]
    },
    {
      "cell_type": "code",
      "source": [
        "print(f'===== Cosine =====')\n",
        "cosine_clustering = kmeans(dataset, 10,\"Cosine\")\n",
        "print(f'List of SSE: ',cosine_clustering[\"SSE\"])"
      ],
      "metadata": {
        "id": "d18UePVyA5ua",
        "colab": {
          "base_uri": "https://localhost:8080/"
        },
        "outputId": "1ed0460a-157b-40a2-cb6c-bd2d31419d90"
      },
      "execution_count": 42,
      "outputs": [
        {
          "output_type": "stream",
          "name": "stdout",
          "text": [
            "===== Cosine =====\n",
            "List of SSE:  [29136224412.692673, 26871763660.673187, 26351380958.342552, 26181854745.73397, 26059101483.409496, 25970021330.313644, 25891379595.750336, 25820336036.47461, 25770278972.512936, 25733744214.448948, 25707155657.81296, 25688130692.85402, 25675848570.03582, 25667776966.47856, 25659092504.37076, 25654947071.651066, 25645559126.14778, 25633048463.306816, 25615784773.89095, 25598008418.63894, 25578570388.77308, 25549755382.654945, 25530720694.81366, 25524934704.93324, 25522150176.73685, 25521860668.479748, 25518773997.087467, 25518870399.79128, 25519484567.667664, 25517735801.990555, 25516937478.88886, 25517677980.821846, 25516377732.449482, 25515869576.165253, 25515141927.450493, 25515526661.725018, 25514161058.660664, 25513083551.41818, 25511433488.790176, 25511863325.41518, 25510241020.660084, 25508968371.02589, 25508729177.704426, 25507487287.157978, 25506824520.6877, 25506958959.940895, 25505683488.355408, 25504627820.32511, 25503355177.04529, 25502030994.173565, 25501651341.69227, 25501893093.88028, 25500904892.702747, 25500326501.5246, 25501402090.929283, 25501373017.97765, 25500990344.810596, 25500487468.47861, 25499857104.639294, 25499072587.05255, 25497597832.178165, 25494415540.67949, 25493124656.264557, 25491730473.830082, 25491119331.298405, 25487616189.66462, 25485087626.67603, 25482298387.978844, 25480238499.401833, 25476851120.268745, 25475907878.9309, 25474523905.190716, 25473823635.92036, 25470948985.43638, 25468382266.040485, 25465714220.19517, 25462123413.261368, 25460397321.68795, 25458388490.104748, 25457564755.5449, 25456323250.300686, 25455565731.954933, 25454328431.17251, 25452009419.313755, 25451957487.680607, 25450900372.208908, 25449627312.94096, 25449340873.163517, 25446752608.64471, 25445107785.573147, 25443324942.638985, 25441609392.161686, 25438845287.570625, 25437519147.114555, 25435687134.477074, 25434200714.60865, 25433697313.83494, 25432116106.25948, 25431354644.73715, 25431307492.575718, 25430576182.04837, 25429569494.67209, 25428436368.84221, 25428572964.575645, 25428035728.06788, 25427201761.27333, 25427224629.471474, 25427355192.842163, 25427128646.125313, 25427103361.99751, 25427196002.394302, 25427195121.46367, 25427527766.7367, 25427676417.851917, 25427159305.272118, 25426640399.949947, 25425894172.46708, 25424935943.057163, 25423029367.925404, 25420879196.791553, 25420073203.554485, 25419356302.903145, 25417326508.828487, 25416667709.843857, 25417005714.15773, 25416845471.66962, 25417217002.14499, 25416946342.560974, 25417190143.559845, 25417263616.074463, 25417170807.93222, 25417111107.176155, 25417146093.794044, 25417126749.650696, 25417132283.99258, 25417130893.03364, 25417124404.30047, 25417290605.855164, 25417279798.417244, 25417280230.467613, 25417269344.350296, 25417269344.350296]\n"
          ]
        }
      ]
    },
    {
      "cell_type": "code",
      "source": [
        "\n",
        "print(f'===== Jaccard =====')\n",
        "jaccard_clustering = kmeans(dataset, 10,\"Jaccard\")\n",
        "print(f'List of SSE: ',jaccard_clustering[\"SSE\"])"
      ],
      "metadata": {
        "id": "o4YoK5XCvKlL",
        "colab": {
          "base_uri": "https://localhost:8080/"
        },
        "outputId": "a890219e-6d59-4e63-a489-8a7b43d772bb"
      },
      "execution_count": 43,
      "outputs": [
        {
          "output_type": "stream",
          "name": "stdout",
          "text": [
            "===== Jaccard =====\n",
            "List of SSE:  [27903727083.39925, 26409655191.375572, 25947225163.345352, 25802783787.794018, 25759817773.6302, 25737123204.896515, 25719498310.37204, 25707134715.750908, 25698299813.328495, 25687045302.996506, 25667509839.356045, 25646942734.830822, 25636147898.68032, 25628364568.494278, 25623687902.502842, 25623171972.103832, 25622070904.22468, 25619735383.549488, 25617307051.20753, 25615341422.17658, 25616211163.527344, 25615857959.747677, 25614526766.593227, 25613093389.221085, 25610002083.518684, 25607436038.255505, 25603821740.928665, 25599327850.724937, 25592715510.462883, 25585206048.773163, 25575038939.906475, 25561983056.034, 25539540902.70724, 25504919942.297558, 25466025285.82878, 25440442951.82105, 25424378159.944336, 25417821851.937916, 25416992929.652317, 25415092802.37866, 25413314267.98081, 25412542234.878025, 25413453855.22482, 25412860463.42128, 25413135868.385666, 25414007190.182625, 25414303097.248055, 25414552098.27378, 25414524401.16253, 25414611877.694023, 25414508322.13936, 25414606933.788895, 25414547214.99514, 25414824160.848373, 25414866473.908703, 25414948571.82352, 25415350837.655975, 25415487151.750412, 25415626768.75255, 25415695697.346306, 25415647218.39507, 25415706241.30048, 25415805223.338425, 25415805223.338425]\n"
          ]
        }
      ]
    }
  ]
}