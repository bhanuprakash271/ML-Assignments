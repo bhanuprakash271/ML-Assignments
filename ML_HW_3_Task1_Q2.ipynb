{
  "nbformat": 4,
  "nbformat_minor": 0,
  "metadata": {
    "colab": {
      "provenance": []
    },
    "kernelspec": {
      "name": "python3",
      "display_name": "Python 3"
    },
    "language_info": {
      "name": "python"
    },
    "accelerator": "GPU",
    "gpuClass": "standard"
  },
  "cells": [
    {
      "cell_type": "code",
      "execution_count": 87,
      "metadata": {
        "id": "2hx8p_FvAb8q"
      },
      "outputs": [],
      "source": [
        "import math\n",
        "import random\n",
        "import time\n",
        "import pandas as pd\n",
        "import numpy as np\n",
        "import matplotlib.pyplot as plt\n",
        "from collections import defaultdict"
      ]
    },
    {
      "cell_type": "code",
      "source": [
        "def isValidNumberString(s):\n",
        "  if len(s) == 0:\n",
        "    return False\n",
        "  if  len(s) > 1 and s[0] == \"-\":\n",
        "      s = s[1:]\n",
        "  for c in s:\n",
        "    if c not in \"0123456789.\":\n",
        "      return False\n",
        "  return True\n"
      ],
      "metadata": {
        "id": "sV_v2DATDK9m"
      },
      "execution_count": 88,
      "outputs": []
    },
    {
      "cell_type": "code",
      "source": [
        "def stringsToNumbers(myList):\n",
        "    for i in range(len(myList)):\n",
        "        if (isValidNumberString(myList[i])):\n",
        "            myList[i] = float(myList[i])"
      ],
      "metadata": {
        "id": "ny_BvxtoDF4-"
      },
      "execution_count": 89,
      "outputs": []
    },
    {
      "cell_type": "code",
      "source": [
        "def lineToTuple(line):\n",
        "    # remove leading/trailing witespace and newlines\n",
        "    cleanLine = line.strip()\n",
        "    # get rid of quotes\n",
        "    cleanLine = cleanLine.replace('\"', '')\n",
        "    # separate the fields\n",
        "    lineList = cleanLine.split(\",\")\n",
        "    # convert strings into numbers\n",
        "    stringsToNumbers(lineList)\n",
        "    lineTuple = tuple(lineList)\n",
        "    return lineTuple"
      ],
      "metadata": {
        "id": "RE2ktIDeDC_L"
      },
      "execution_count": 90,
      "outputs": []
    },
    {
      "cell_type": "code",
      "source": [
        "def loadCSV(fileName):\n",
        "    fileHandler = open(fileName, \"rt\")\n",
        "    lines = fileHandler.readlines()\n",
        "    fileHandler.close()\n",
        "    del lines[0] # remove the header\n",
        "    dataset = []\n",
        "    for line in lines:\n",
        "        instance = lineToTuple(line)\n",
        "        dataset.append(instance)\n",
        "    return dataset"
      ],
      "metadata": {
        "id": "w78E9ULQC0ev"
      },
      "execution_count": 91,
      "outputs": []
    },
    {
      "cell_type": "code",
      "source": [
        "def printTable(instances):\n",
        "    for instance in instances:\n",
        "        if instance != None:\n",
        "            line = instance[0] + \"\\t\"\n",
        "            for i in range(1, len(instance)):\n",
        "                line += \"%.2f \" % instance[i]\n",
        "            print(line)"
      ],
      "metadata": {
        "id": "AGmt9uNZSwg5"
      },
      "execution_count": 92,
      "outputs": []
    },
    {
      "cell_type": "code",
      "source": [
        "def extractAttribute(instances, index):\n",
        "    result = []\n",
        "    for instance in instances:\n",
        "        result.append(instance[index])\n",
        "    return result\n"
      ],
      "metadata": {
        "id": "3ZhVLni4Sx23"
      },
      "execution_count": 93,
      "outputs": []
    },
    {
      "cell_type": "code",
      "source": [
        "def euclidean_distance(instance1, instance2):\n",
        "    if instance1 == None or instance2 == None:\n",
        "        return float(\"inf\")\n",
        "    distance = 0\n",
        "    for i in range(1, len(instance1)):\n",
        "        distance += (instance1[i] - instance2[i])**2\n",
        "    return math.sqrt(distance)"
      ],
      "metadata": {
        "id": "kzgWasbLC4iz"
      },
      "execution_count": 94,
      "outputs": []
    },
    {
      "cell_type": "code",
      "source": [
        "def cosine_distance(instance1, instance2):\n",
        "  if instance1 == None or instance2 == None:\n",
        "        return float(\"inf\")\n",
        "  A = np.array(instance1[1:],dtype=float)\n",
        "  B = np.array(instance2[1:],dtype=float)\n",
        "  distance = 1 - np.dot(A,B)/(np.linalg.norm(A)*np.linalg.norm(B))\n",
        "  return distance"
      ],
      "metadata": {
        "id": "awEhCd-bvPI2"
      },
      "execution_count": 95,
      "outputs": []
    },
    {
      "cell_type": "code",
      "source": [
        "def jaccard(instance1, instance2):\n",
        "  if instance1 == None or instance2 == None:\n",
        "        return float(\"inf\")\n",
        "  A = np.array(instance1[1:],dtype=float)\n",
        "  B = np.array(instance2[1:],dtype=float)\n",
        "  return 1 - (np.sum(np.minimum(A,B), axis = 0)/np.sum(np.maximum(A, B), axis = 0)) "
      ],
      "metadata": {
        "id": "hT6zgRGO0M5q"
      },
      "execution_count": 96,
      "outputs": []
    },
    {
      "cell_type": "code",
      "source": [
        "def calculateSSE(instance1, instance2):\n",
        "    if instance1 == None or instance2 == None:\n",
        "        return float(\"inf\")\n",
        "    sumOfSquares = 0\n",
        "    for i in range(1, len(instance1)):\n",
        "        sumOfSquares += (instance1[i] - instance2[i])**2\n",
        "    return sumOfSquares"
      ],
      "metadata": {
        "id": "rXQ2NR8wafNd"
      },
      "execution_count": 97,
      "outputs": []
    },
    {
      "cell_type": "code",
      "source": [
        "def meanInstance(name, instanceList):\n",
        "    numInstances = len(instanceList)\n",
        "    if (numInstances == 0):\n",
        "        return\n",
        "    numAttributes = len(instanceList[0])\n",
        "    means = [name] + [0] * (numAttributes-1)\n",
        "    for instance in instanceList:\n",
        "        for i in range(1, numAttributes):\n",
        "            means[i] += instance[i]\n",
        "    for i in range(1, numAttributes):\n",
        "        means[i] /= float(numInstances)\n",
        "    return tuple(means)"
      ],
      "metadata": {
        "id": "kSoEYPPiSQbw"
      },
      "execution_count": 98,
      "outputs": []
    },
    {
      "cell_type": "code",
      "source": [
        "def cluster_count(cluster):\n",
        "  cl = defaultdict(int)\n",
        "  for point in cluster:\n",
        "    cl[point[-1]] += 1\n",
        "  return cl"
      ],
      "metadata": {
        "id": "mOnmwacrS6uM"
      },
      "execution_count": 99,
      "outputs": []
    },
    {
      "cell_type": "code",
      "source": [
        "def assign(instance, centroids, dist_func):\n",
        "  if(dist_func == \"Euclidean\"):\n",
        "    minDistance = euclidean_distance(instance, centroids[0])\n",
        "  elif(dist_func == \"Cosine\"):\n",
        "    minDistance = cosine_distance(instance, centroids[0])\n",
        "  else:\n",
        "    minDistance = jaccard(instance, centroids[0])\n",
        "\n",
        "  minDistanceIndex = 0\n",
        "  for i in range(1, len(centroids)):\n",
        "      if(dist_func == \"Euclidean\"):\n",
        "        d = euclidean_distance(instance, centroids[i])\n",
        "      elif(dist_func == \"Cosine\"):\n",
        "        d = cosine_distance(instance, centroids[i])\n",
        "      else:\n",
        "        d = jaccard(instance, centroids[i])\n",
        "      if (d < minDistance):\n",
        "          minDistance = d\n",
        "          minDistanceIndex = i\n",
        "  return minDistanceIndex"
      ],
      "metadata": {
        "id": "4xTBOfCrSQ9Q"
      },
      "execution_count": 100,
      "outputs": []
    },
    {
      "cell_type": "code",
      "source": [
        "def createEmptyListOfLists(numSubLists):\n",
        "    myList = []\n",
        "    for i in range(numSubLists):\n",
        "        myList.append([])\n",
        "    return myList"
      ],
      "metadata": {
        "id": "OyzWrqZBSSp6"
      },
      "execution_count": 101,
      "outputs": []
    },
    {
      "cell_type": "code",
      "source": [
        "label_accuracy = pd.read_csv(\"label.csv\").to_numpy()\n",
        "data = pd.read_csv(\"data.csv\").to_numpy()\n",
        "\n",
        "arr = []\n",
        "\n",
        "for row in range(len(data)):\n",
        "  temp = []\n",
        "  for col in range(len(data[row])):\n",
        "    temp.append(data[row][col])\n",
        "  temp.append(label_accuracy[row][0])\n",
        "  arr.append(temp)\n",
        "\n",
        "arr=sorted(arr, key=lambda x: x[len(arr[0])-1], reverse=False)"
      ],
      "metadata": {
        "id": "vMdN-pZXS0xG"
      },
      "execution_count": 102,
      "outputs": []
    },
    {
      "cell_type": "code",
      "source": [
        "def assignAll(instances, centroids, dist_func):\n",
        "    clusters = createEmptyListOfLists(len(centroids))\n",
        "    for instance in instances:\n",
        "        clusterIndex = assign(instance, centroids, dist_func)\n",
        "        clusters[clusterIndex].append(instance)\n",
        "    return clusters"
      ],
      "metadata": {
        "id": "W5-J17pFST9Q"
      },
      "execution_count": 103,
      "outputs": []
    },
    {
      "cell_type": "code",
      "source": [
        "def computeCentroids(clusters):\n",
        "    centroids = []\n",
        "    for i in range(len(clusters)):\n",
        "        name = \"centroid\" + str(i)\n",
        "        centroid = meanInstance(name, clusters[i])\n",
        "        centroids.append(centroid)\n",
        "    return centroids"
      ],
      "metadata": {
        "id": "02xforyvSVWr"
      },
      "execution_count": 104,
      "outputs": []
    },
    {
      "cell_type": "code",
      "source": [
        "\n",
        "def kmeans(instances, k, dist_func,initCentroids=None):\n",
        "\n",
        "    result = {}\n",
        "    sse_list=[]\n",
        "    if (initCentroids == None or len(initCentroids) < k):\n",
        "        # randomly select k initial centroids\n",
        "        random.seed(time.time())\n",
        "        centroids = random.sample(instances, k)\n",
        "    else:\n",
        "        centroids = initCentroids\n",
        "    prevCentroids = []\n",
        "\n",
        "    iteration = 0\n",
        "    start = time.time()\n",
        "    while (centroids != prevCentroids):\n",
        "        if(iteration > 150):\n",
        "          break\n",
        "        iteration += 1\n",
        "        clusters = assignAll(instances, centroids,dist_func)\n",
        "\n",
        "        prevCentroids = centroids\n",
        "        centroids = computeCentroids(clusters)\n",
        "        withinss = computeWithinss(clusters, centroids)\n",
        "\n",
        "        sse_list.append(withinss)\n",
        "\n",
        "    result[\"clusters\"] = clusters\n",
        "    result[\"centroids\"] = centroids\n",
        "    result[\"withinss\"] = withinss\n",
        "    result[\"SSE\"] = sse_list\n",
        "    result[\"iterations\"] = iteration\n",
        "   # print(\"Time taken:\", time.time() - start)\n",
        "    return result"
      ],
      "metadata": {
        "id": "ahTmGdJ8SZ-c"
      },
      "execution_count": 105,
      "outputs": []
    },
    {
      "cell_type": "code",
      "source": [
        "def computeWithinss(clusters, centroids):\n",
        "    result = 0\n",
        "    for i in range(len(centroids)):\n",
        "        centroid = centroids[i]\n",
        "        cluster = clusters[i]\n",
        "        for instance in cluster:\n",
        "            result += calculateSSE(centroid, instance)\n",
        "    return result\n"
      ],
      "metadata": {
        "id": "vXO6A1s7Sc1S"
      },
      "execution_count": 106,
      "outputs": []
    },
    {
      "cell_type": "code",
      "source": [
        "label_group_count = dict(cluster_count(label_accuracy))\n",
        "print(f'label_group_count',label_group_count)\n",
        "total = 0\n",
        "for a in label_group_count:\n",
        "   total += label_group_count[a]\n",
        "print(total)"
      ],
      "metadata": {
        "colab": {
          "base_uri": "https://localhost:8080/"
        },
        "id": "wqJxkDZwQLrE",
        "outputId": "62714e98-b4b7-43a1-ec0f-2683fa9d75d1"
      },
      "execution_count": 107,
      "outputs": [
        {
          "output_type": "stream",
          "name": "stdout",
          "text": [
            "label_group_count {2: 1032, 1: 1135, 0: 980, 4: 982, 9: 1009, 5: 892, 6: 958, 7: 1027, 3: 1010, 8: 974}\n",
            "9999\n"
          ]
        }
      ]
    },
    {
      "cell_type": "code",
      "source": [
        "print(f'===== Euclidean =====')\n",
        "euclidean_clustering = kmeans(arr, 10,\"Euclidean\")"
      ],
      "metadata": {
        "colab": {
          "base_uri": "https://localhost:8080/"
        },
        "id": "UNKf45IoAiCn",
        "outputId": "e46213d8-1a85-43bc-b5c8-35f4749b9e38"
      },
      "execution_count": 108,
      "outputs": [
        {
          "output_type": "stream",
          "name": "stdout",
          "text": [
            "===== Euclidean =====\n"
          ]
        }
      ]
    },
    {
      "cell_type": "code",
      "source": [
        "initial_labels = {0: 0, 1: 0, 2: 0, 3:0, 4:0, 5:0, 6:0, 7:0, 8:0, 9:0}\n",
        "for key in range(len(euclidean_clustering[\"clusters\"])):\n",
        "      cluster_data = dict(cluster_count(euclidean_clustering[\"clusters\"][key]))\n",
        "      max_value = 0\n",
        "      label = \"\"\n",
        "      for k in cluster_data:\n",
        "        if cluster_data[k] > max_value:\n",
        "          max_value = cluster_data[k]\n",
        "          label = k\n",
        "      initial_labels[label] = max_value\n",
        "print('initial_labels==>',initial_labels)"
      ],
      "metadata": {
        "colab": {
          "base_uri": "https://localhost:8080/"
        },
        "id": "zT29M5gl5urK",
        "outputId": "96778c43-3dc9-41da-dd3a-5c3eaa0edf8b"
      },
      "execution_count": 109,
      "outputs": [
        {
          "output_type": "stream",
          "name": "stdout",
          "text": [
            "initial_labels==> {0: 434, 1: 515, 2: 0, 3: 347, 4: 198, 5: 0, 6: 638, 7: 642, 8: 256, 9: 301}\n"
          ]
        }
      ]
    },
    {
      "cell_type": "code",
      "source": [
        "total_sum = 0\n",
        "mispredicted = 0\n",
        "for i in label_group_count:\n",
        "    total_sum += label_group_count[i]\n",
        "    mispredicted += abs(label_group_count[i] - initial_labels[i])\n",
        "accuracy = (total_sum - mispredicted) / total_sum\n",
        "print(\"Accuracy =\",accuracy)"
      ],
      "metadata": {
        "colab": {
          "base_uri": "https://localhost:8080/"
        },
        "id": "7RS00DSk-Iet",
        "outputId": "46652c4c-a370-4c74-91e7-d48fded1d029"
      },
      "execution_count": 110,
      "outputs": [
        {
          "output_type": "stream",
          "name": "stdout",
          "text": [
            "Accuracy = 0.3331333133313331\n"
          ]
        }
      ]
    },
    {
      "cell_type": "code",
      "source": [
        "print(f'===== Cosine =====')\n",
        "cosine_clustering = kmeans(arr, 10,\"Cosine\")\n",
        "\n",
        "initial_labels = {0: 0, 1: 0, 2: 0, 3:0, 4:0, 5:0, 6:0, 7:0, 8:0, 9:0}\n",
        "for key in range(len(cosine_clustering[\"clusters\"])):\n",
        "      cluster_data = dict(cluster_count(cosine_clustering[\"clusters\"][key]))\n",
        "      max_value = 0\n",
        "      label = \"\"\n",
        "      for k in cluster_data:\n",
        "        if cluster_data[k] > max_value:\n",
        "          max_value = cluster_data[k]\n",
        "          label = k\n",
        "      initial_labels[label] = max_value\n",
        "print('initial_labels==>',initial_labels)\n",
        "\n",
        "\n",
        "total_sum = 0\n",
        "mispredicted = 0\n",
        "for i in label_group_count:\n",
        "    total_sum += label_group_count[i]\n",
        "    mispredicted += abs(label_group_count[i] - initial_labels[i])\n",
        "accuracy = (total_sum - mispredicted) / total_sum\n",
        "print(\"Accuracy =\",accuracy)\n",
        "\n"
      ],
      "metadata": {
        "id": "o4YoK5XCvKlL",
        "colab": {
          "base_uri": "https://localhost:8080/"
        },
        "outputId": "6418cde3-bfa5-49d3-8852-4d544f0e2e75"
      },
      "execution_count": 111,
      "outputs": [
        {
          "output_type": "stream",
          "name": "stdout",
          "text": [
            "===== Cosine =====\n",
            "initial_labels==> {0: 669, 1: 803, 2: 734, 3: 798, 4: 559, 5: 183, 6: 311, 7: 562, 8: 0, 9: 286}\n",
            "Accuracy = 0.49054905490549056\n"
          ]
        }
      ]
    },
    {
      "cell_type": "code",
      "source": [
        "print(f'===== Jaccard =====')\n",
        "jaccard_clustering = kmeans(arr, 10,\"Jaccard\")\n",
        "\n",
        "initial_labels = {0: 0, 1: 0, 2: 0, 3:0, 4:0, 5:0, 6:0, 7:0, 8:0, 9:0}\n",
        "for key in range(len(jaccard_clustering[\"clusters\"])):\n",
        "      cluster_data = dict(cluster_count(jaccard_clustering[\"clusters\"][key]))\n",
        "      max_value = 0\n",
        "      label = \"\"\n",
        "      for k in cluster_data:\n",
        "        if cluster_data[k] > max_value:\n",
        "          max_value = cluster_data[k]\n",
        "          label = k\n",
        "      initial_labels[label] = max_value\n",
        "print('initial_labels==>',initial_labels)\n",
        "\n",
        "\n",
        "total_sum = 0\n",
        "mispredicted = 0\n",
        "for i in label_group_count:\n",
        "    total_sum += label_group_count[i]\n",
        "    mispredicted += abs(label_group_count[i] - initial_labels[i])\n",
        "accuracy = (total_sum - mispredicted) / total_sum\n",
        "print(\"Accuracy =\",accuracy)\n"
      ],
      "metadata": {
        "colab": {
          "base_uri": "https://localhost:8080/"
        },
        "id": "iQt3c07VR-CC",
        "outputId": "4045507b-240c-4431-94ab-fed458fd7654"
      },
      "execution_count": 112,
      "outputs": [
        {
          "output_type": "stream",
          "name": "stdout",
          "text": [
            "===== Jaccard =====\n",
            "initial_labels==> {0: 832, 1: 1039, 2: 0, 3: 706, 4: 196, 5: 285, 6: 518, 7: 584, 8: 404, 9: 0}\n",
            "Accuracy = 0.45644564456445647\n"
          ]
        }
      ]
    }
  ]
}