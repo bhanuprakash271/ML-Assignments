{
  "nbformat": 4,
  "nbformat_minor": 0,
  "metadata": {
    "colab": {
      "provenance": []
    },
    "kernelspec": {
      "name": "python3",
      "display_name": "Python 3"
    },
    "language_info": {
      "name": "python"
    }
  },
  "cells": [
    {
      "cell_type": "code",
      "execution_count": 117,
      "metadata": {
        "colab": {
          "base_uri": "https://localhost:8080/"
        },
        "id": "DQNMMdMLGXq-",
        "outputId": "6ab8d8b3-a0cf-4dc3-fcf3-4d032d0f47fa"
      },
      "outputs": [
        {
          "output_type": "stream",
          "name": "stdout",
          "text": [
            "Looking in indexes: https://pypi.org/simple, https://us-python.pkg.dev/colab-wheels/public/simple/\n",
            "Requirement already satisfied: scikit-surprise in /usr/local/lib/python3.7/dist-packages (1.1.1)\n",
            "Requirement already satisfied: joblib>=0.11 in /usr/local/lib/python3.7/dist-packages (from scikit-surprise) (1.2.0)\n",
            "Requirement already satisfied: six>=1.10.0 in /usr/local/lib/python3.7/dist-packages (from scikit-surprise) (1.15.0)\n",
            "Requirement already satisfied: numpy>=1.11.2 in /usr/local/lib/python3.7/dist-packages (from scikit-surprise) (1.21.6)\n",
            "Requirement already satisfied: scipy>=1.0.0 in /usr/local/lib/python3.7/dist-packages (from scikit-surprise) (1.7.3)\n"
          ]
        }
      ],
      "source": [
        "!pip install scikit-surprise"
      ]
    },
    {
      "cell_type": "code",
      "source": [
        "from surprise import SVD\n",
        "from surprise import Dataset,Reader,KNNBasic\n",
        "from surprise.model_selection import cross_validate\n",
        "import pandas as pd\n",
        "import numpy as np\n",
        "import os\n",
        "import matplotlib.pyplot as plt"
      ],
      "metadata": {
        "id": "KUWpRFp9Ln9V"
      },
      "execution_count": 118,
      "outputs": []
    },
    {
      "cell_type": "code",
      "source": [
        "reader = Reader(line_format=\"user item rating timestamp\", sep=\",\", skip_lines = 1)\n",
        "data = Dataset.load_from_file(\"./ratings_small.csv\", reader=reader)"
      ],
      "metadata": {
        "id": "fgj3-ltRLqaX"
      },
      "execution_count": 119,
      "outputs": []
    },
    {
      "cell_type": "code",
      "source": [
        "# Use the famous SVD algorithm.\n",
        "algo = SVD(biased=False)\n",
        "\n",
        "# Run 5-fold cross-validation and print results.\n",
        "pmf = cross_validate(algo, data, measures=['RMSE', 'MAE'], cv=5, verbose=True)\n"
      ],
      "metadata": {
        "colab": {
          "base_uri": "https://localhost:8080/"
        },
        "id": "fNTjrb9XJWm3",
        "outputId": "2a3344b4-6576-458d-9928-18cafdfeb7c0"
      },
      "execution_count": 120,
      "outputs": [
        {
          "output_type": "stream",
          "name": "stdout",
          "text": [
            "Evaluating RMSE, MAE of algorithm SVD on 5 split(s).\n",
            "\n",
            "                  Fold 1  Fold 2  Fold 3  Fold 4  Fold 5  Mean    Std     \n",
            "RMSE (testset)    1.0116  1.0154  1.0151  1.0043  1.0012  1.0095  0.0058  \n",
            "MAE (testset)     0.7779  0.7826  0.7829  0.7770  0.7749  0.7791  0.0032  \n",
            "Fit time          10.96   7.75    5.37    5.80    5.19    7.01    2.17    \n",
            "Test time         0.30    0.71    0.23    0.15    0.15    0.31    0.21    \n"
          ]
        }
      ]
    },
    {
      "cell_type": "code",
      "source": [
        "pmf_mae = pmf['test_mae'].mean()\n",
        "pmf_rmse = pmf['test_rmse'].mean()\n",
        "print('The average MAE of the PMF under the 5-folds cross-validation is : %.3f' % pmf_mae)\n",
        "print('The average RMSE of the PMF under the 5-folds cross-validation is : %.3f' % pmf_rmse)"
      ],
      "metadata": {
        "colab": {
          "base_uri": "https://localhost:8080/"
        },
        "id": "0dE0nLWSGiTT",
        "outputId": "8c979514-b66a-4677-bb20-47aaf4c5b938"
      },
      "execution_count": 121,
      "outputs": [
        {
          "output_type": "stream",
          "name": "stdout",
          "text": [
            "The average MAE of the PMF under the 5-folds cross-validation is : 0.779\n",
            "The average RMSE of the PMF under the 5-folds cross-validation is : 1.010\n"
          ]
        }
      ]
    },
    {
      "cell_type": "code",
      "source": [
        "user_based_CF = KNNBasic(sim_options={'user_based': True})\n",
        "\n",
        "# Run 5-fold cross-validation and print results.\n",
        "UBCF = cross_validate(user_based_CF, data, measures=['RMSE', 'MAE'], cv=5, verbose=True)"
      ],
      "metadata": {
        "colab": {
          "base_uri": "https://localhost:8080/"
        },
        "id": "ux5jjDd_b4w0",
        "outputId": "4926f72c-e2de-4079-9701-89f507eef619"
      },
      "execution_count": 122,
      "outputs": [
        {
          "output_type": "stream",
          "name": "stdout",
          "text": [
            "Computing the msd similarity matrix...\n",
            "Done computing similarity matrix.\n",
            "Computing the msd similarity matrix...\n",
            "Done computing similarity matrix.\n",
            "Computing the msd similarity matrix...\n",
            "Done computing similarity matrix.\n",
            "Computing the msd similarity matrix...\n",
            "Done computing similarity matrix.\n",
            "Computing the msd similarity matrix...\n",
            "Done computing similarity matrix.\n",
            "Evaluating RMSE, MAE of algorithm KNNBasic on 5 split(s).\n",
            "\n",
            "                  Fold 1  Fold 2  Fold 3  Fold 4  Fold 5  Mean    Std     \n",
            "RMSE (testset)    0.9710  0.9678  0.9681  0.9687  0.9704  0.9692  0.0013  \n",
            "MAE (testset)     0.7445  0.7450  0.7445  0.7434  0.7480  0.7451  0.0015  \n",
            "Fit time          0.17    0.34    0.43    0.43    0.21    0.32    0.11    \n",
            "Test time         3.06    4.74    3.68    2.06    1.82    3.07    1.07    \n"
          ]
        }
      ]
    },
    {
      "cell_type": "code",
      "source": [
        "ubcf_mae = UBCF['test_mae'].mean()\n",
        "ubcf_rmse = UBCF['test_rmse'].mean()\n",
        "print('The average MAE of the User based Collaborative Filtering under the 5-folds cross-validation is : %.3f' % ubcf_mae)\n",
        "print('The average RMSE of the User based Collaborative Filtering under the 5-folds cross-validation is : %.3f' % ubcf_rmse)"
      ],
      "metadata": {
        "colab": {
          "base_uri": "https://localhost:8080/"
        },
        "id": "WhTM9uaAc6Vc",
        "outputId": "1d1a8d96-27d8-4473-82b2-7bcc5eb01abe"
      },
      "execution_count": 123,
      "outputs": [
        {
          "output_type": "stream",
          "name": "stdout",
          "text": [
            "The average MAE of the User based Collaborative Filtering under the 5-folds cross-validation is : 0.745\n",
            "The average RMSE of the User based Collaborative Filtering under the 5-folds cross-validation is : 0.969\n"
          ]
        }
      ]
    },
    {
      "cell_type": "code",
      "source": [
        "item_based_CF = KNNBasic(sim_options={'user_based': False})\n",
        "\n",
        "# Run 5-fold cross-validation and print results.\n",
        "IBCF = cross_validate(item_based_CF, data, measures=['RMSE', 'MAE'], cv=5, verbose=True)"
      ],
      "metadata": {
        "colab": {
          "base_uri": "https://localhost:8080/"
        },
        "id": "A0styQ0YdnlF",
        "outputId": "4d2d9ea7-426f-4883-9204-e4b2801c5c0c"
      },
      "execution_count": 124,
      "outputs": [
        {
          "output_type": "stream",
          "name": "stdout",
          "text": [
            "Computing the msd similarity matrix...\n",
            "Done computing similarity matrix.\n",
            "Computing the msd similarity matrix...\n",
            "Done computing similarity matrix.\n",
            "Computing the msd similarity matrix...\n",
            "Done computing similarity matrix.\n",
            "Computing the msd similarity matrix...\n",
            "Done computing similarity matrix.\n",
            "Computing the msd similarity matrix...\n",
            "Done computing similarity matrix.\n",
            "Evaluating RMSE, MAE of algorithm KNNBasic on 5 split(s).\n",
            "\n",
            "                  Fold 1  Fold 2  Fold 3  Fold 4  Fold 5  Mean    Std     \n",
            "RMSE (testset)    0.9388  0.9276  0.9347  0.9362  0.9381  0.9351  0.0040  \n",
            "MAE (testset)     0.7237  0.7160  0.7224  0.7231  0.7209  0.7212  0.0028  \n",
            "Fit time          9.89    5.90    5.31    5.62    5.58    6.46    1.73    \n",
            "Test time         8.62    7.84    7.65    7.99    8.00    8.02    0.32    \n"
          ]
        }
      ]
    },
    {
      "cell_type": "code",
      "source": [
        "ibcf_mae = IBCF['test_mae'].mean()\n",
        "ibcf_rmse = IBCF['test_rmse'].mean()\n",
        "print('The average MAE of the Item based Collaborative Filtering under the 5-folds cross-validation is : %.3f' % ibcf_mae)\n",
        "print('The average RMSE of the Item based Collaborative Filtering under the 5-folds cross-validation is : %.3f' % ibcf_rmse)"
      ],
      "metadata": {
        "colab": {
          "base_uri": "https://localhost:8080/"
        },
        "id": "Eyzu2MsFdxct",
        "outputId": "fc298d8d-82a7-4e46-d62c-459db3d1d437"
      },
      "execution_count": 125,
      "outputs": [
        {
          "output_type": "stream",
          "name": "stdout",
          "text": [
            "The average MAE of the Item based Collaborative Filtering under the 5-folds cross-validation is : 0.721\n",
            "The average RMSE of the Item based Collaborative Filtering under the 5-folds cross-validation is : 0.935\n"
          ]
        }
      ]
    },
    {
      "cell_type": "code",
      "source": [
        "cosine_sim_ub = KNNBasic(sim_options={\"name\": \"cosine\",\"user_based\": True})\n",
        "cosine_sim_ib = KNNBasic(sim_options={\"name\": \"cosine\",\"user_based\": False})\n",
        "cosine_ubcf = cross_validate(cosine_sim_ub, data, measures=['RMSE', 'MAE'], cv=5, verbose=True)\n",
        "cosine_ibcf = cross_validate(cosine_sim_ib, data, measures=['RMSE', 'MAE'], cv=5, verbose=True)\n"
      ],
      "metadata": {
        "colab": {
          "base_uri": "https://localhost:8080/"
        },
        "id": "cZ6Y9tmdeFeJ",
        "outputId": "fb67d4b1-6437-410a-94f9-7d9e91c8f53e"
      },
      "execution_count": 126,
      "outputs": [
        {
          "output_type": "stream",
          "name": "stdout",
          "text": [
            "Computing the cosine similarity matrix...\n",
            "Done computing similarity matrix.\n",
            "Computing the cosine similarity matrix...\n",
            "Done computing similarity matrix.\n",
            "Computing the cosine similarity matrix...\n",
            "Done computing similarity matrix.\n",
            "Computing the cosine similarity matrix...\n",
            "Done computing similarity matrix.\n",
            "Computing the cosine similarity matrix...\n",
            "Done computing similarity matrix.\n",
            "Evaluating RMSE, MAE of algorithm KNNBasic on 5 split(s).\n",
            "\n",
            "                  Fold 1  Fold 2  Fold 3  Fold 4  Fold 5  Mean    Std     \n",
            "RMSE (testset)    0.9930  0.9911  0.9974  0.9960  0.9901  0.9935  0.0028  \n",
            "MAE (testset)     0.7688  0.7669  0.7702  0.7666  0.7640  0.7673  0.0021  \n",
            "Fit time          0.40    0.75    0.46    0.45    0.38    0.49    0.13    \n",
            "Test time         1.68    2.78    1.79    1.62    1.57    1.89    0.45    \n",
            "Computing the cosine similarity matrix...\n",
            "Done computing similarity matrix.\n",
            "Computing the cosine similarity matrix...\n",
            "Done computing similarity matrix.\n",
            "Computing the cosine similarity matrix...\n",
            "Done computing similarity matrix.\n",
            "Computing the cosine similarity matrix...\n",
            "Done computing similarity matrix.\n",
            "Computing the cosine similarity matrix...\n",
            "Done computing similarity matrix.\n",
            "Evaluating RMSE, MAE of algorithm KNNBasic on 5 split(s).\n",
            "\n",
            "                  Fold 1  Fold 2  Fold 3  Fold 4  Fold 5  Mean    Std     \n",
            "RMSE (testset)    0.9897  0.9969  0.9916  0.9912  1.0074  0.9954  0.0065  \n",
            "MAE (testset)     0.7702  0.7782  0.7714  0.7715  0.7845  0.7751  0.0055  \n",
            "Fit time          18.10   13.87   14.41   16.97   14.37   15.54   1.67    \n",
            "Test time         7.18    8.28    7.18    7.57    7.67    7.58    0.40    \n"
          ]
        }
      ]
    },
    {
      "cell_type": "code",
      "source": [
        "msd_sim_ub = KNNBasic(sim_options={\"name\": \"msd\",\"user_based\": True})\n",
        "msd_sim_ib = KNNBasic(sim_options={\"name\": \"msd\",\"user_based\": False})\n",
        "msd_ubcf = cross_validate(msd_sim_ub, data, measures=['RMSE', 'MAE'], cv=5, verbose=True)\n",
        "msd_ibcf = cross_validate(msd_sim_ib, data, measures=['RMSE', 'MAE'], cv=5, verbose=True)"
      ],
      "metadata": {
        "colab": {
          "base_uri": "https://localhost:8080/"
        },
        "id": "HwY02rrCg5pe",
        "outputId": "7b2a0ce1-f6ab-4b13-b9f7-99d7def7ca61"
      },
      "execution_count": 127,
      "outputs": [
        {
          "output_type": "stream",
          "name": "stdout",
          "text": [
            "Computing the msd similarity matrix...\n",
            "Done computing similarity matrix.\n",
            "Computing the msd similarity matrix...\n",
            "Done computing similarity matrix.\n",
            "Computing the msd similarity matrix...\n",
            "Done computing similarity matrix.\n",
            "Computing the msd similarity matrix...\n",
            "Done computing similarity matrix.\n",
            "Computing the msd similarity matrix...\n",
            "Done computing similarity matrix.\n",
            "Evaluating RMSE, MAE of algorithm KNNBasic on 5 split(s).\n",
            "\n",
            "                  Fold 1  Fold 2  Fold 3  Fold 4  Fold 5  Mean    Std     \n",
            "RMSE (testset)    0.9667  0.9731  0.9701  0.9692  0.9630  0.9684  0.0034  \n",
            "MAE (testset)     0.7437  0.7477  0.7462  0.7447  0.7386  0.7442  0.0031  \n",
            "Fit time          0.18    0.21    0.17    0.17    0.25    0.19    0.03    \n",
            "Test time         1.79    1.64    1.60    1.82    2.72    1.92    0.41    \n",
            "Computing the msd similarity matrix...\n",
            "Done computing similarity matrix.\n",
            "Computing the msd similarity matrix...\n",
            "Done computing similarity matrix.\n",
            "Computing the msd similarity matrix...\n",
            "Done computing similarity matrix.\n",
            "Computing the msd similarity matrix...\n",
            "Done computing similarity matrix.\n",
            "Computing the msd similarity matrix...\n",
            "Done computing similarity matrix.\n",
            "Evaluating RMSE, MAE of algorithm KNNBasic on 5 split(s).\n",
            "\n",
            "                  Fold 1  Fold 2  Fold 3  Fold 4  Fold 5  Mean    Std     \n",
            "RMSE (testset)    0.9330  0.9337  0.9352  0.9324  0.9406  0.9350  0.0030  \n",
            "MAE (testset)     0.7183  0.7181  0.7234  0.7186  0.7265  0.7210  0.0034  \n",
            "Fit time          5.86    5.26    4.51    5.41    5.01    5.21    0.45    \n",
            "Test time         7.59    8.46    8.66    8.11    8.05    8.17    0.37    \n"
          ]
        }
      ]
    },
    {
      "cell_type": "code",
      "source": [
        "pearson_sim_ub = KNNBasic(sim_options={\"name\": \"pearson\",\"user_based\": True})\n",
        "pearson_sim_ib = KNNBasic(sim_options={\"name\": \"pearson\",\"user_based\": False})\n",
        "pearson_ubcf = cross_validate(pearson_sim_ub, data, measures=['RMSE', 'MAE'], cv=5, verbose=True)\n",
        "pearson_ibcf = cross_validate(pearson_sim_ib, data, measures=['RMSE', 'MAE'], cv=5, verbose=True)"
      ],
      "metadata": {
        "colab": {
          "base_uri": "https://localhost:8080/"
        },
        "id": "z0XPMtdHiQMX",
        "outputId": "b9c84045-1f77-4952-e8fe-256e8edeaff7"
      },
      "execution_count": 128,
      "outputs": [
        {
          "output_type": "stream",
          "name": "stdout",
          "text": [
            "Computing the pearson similarity matrix...\n",
            "Done computing similarity matrix.\n",
            "Computing the pearson similarity matrix...\n",
            "Done computing similarity matrix.\n",
            "Computing the pearson similarity matrix...\n",
            "Done computing similarity matrix.\n",
            "Computing the pearson similarity matrix...\n",
            "Done computing similarity matrix.\n",
            "Computing the pearson similarity matrix...\n",
            "Done computing similarity matrix.\n",
            "Evaluating RMSE, MAE of algorithm KNNBasic on 5 split(s).\n",
            "\n",
            "                  Fold 1  Fold 2  Fold 3  Fold 4  Fold 5  Mean    Std     \n",
            "RMSE (testset)    0.9896  1.0017  0.9924  1.0151  1.0012  1.0000  0.0089  \n",
            "MAE (testset)     0.7680  0.7737  0.7663  0.7854  0.7754  0.7738  0.0068  \n",
            "Fit time          0.58    0.62    0.58    0.70    0.61    0.62    0.04    \n",
            "Test time         1.71    1.69    1.59    2.56    2.05    1.92    0.35    \n",
            "Computing the pearson similarity matrix...\n",
            "Done computing similarity matrix.\n",
            "Computing the pearson similarity matrix...\n",
            "Done computing similarity matrix.\n",
            "Computing the pearson similarity matrix...\n",
            "Done computing similarity matrix.\n",
            "Computing the pearson similarity matrix...\n",
            "Done computing similarity matrix.\n",
            "Computing the pearson similarity matrix...\n",
            "Done computing similarity matrix.\n",
            "Evaluating RMSE, MAE of algorithm KNNBasic on 5 split(s).\n",
            "\n",
            "                  Fold 1  Fold 2  Fold 3  Fold 4  Fold 5  Mean    Std     \n",
            "RMSE (testset)    0.9912  0.9875  0.9946  0.9778  0.9934  0.9889  0.0061  \n",
            "MAE (testset)     0.7708  0.7670  0.7699  0.7611  0.7703  0.7678  0.0036  \n",
            "Fit time          19.19   21.08   18.82   20.13   20.26   19.90   0.81    \n",
            "Test time         6.63    7.50    8.37    7.59    8.01    7.62    0.59    \n"
          ]
        }
      ]
    },
    {
      "cell_type": "code",
      "source": [
        "print('===== User based Collaborative Filtering =====')\n",
        "print('The average MAE of the User based Collaborative Filtering using cosine is : %.3f' % cosine_ubcf['test_mae'].mean())\n",
        "print('The average RMSE of the User based Collaborative Filtering using cosine is : %.3f' % cosine_ubcf['test_rmse'].mean())\n",
        "print('The average MAE of the User based Collaborative Filtering using MSD is : %.3f' % msd_ubcf['test_mae'].mean())\n",
        "print('The average RMSE of the User based Collaborative Filtering using MSD is : %.3f' % msd_ubcf['test_rmse'].mean())\n",
        "print('The average MAE of the User based Collaborative Filtering using pearson is : %.3f' % pearson_ubcf['test_mae'].mean())\n",
        "print('The average RMSE of the User based Collaborative Filtering using pearson is : %.3f' % pearson_ubcf['test_rmse'].mean())\n",
        "\n",
        "\n",
        "print('===== Item based Collaborative Filtering =====')\n",
        "print('The average MAE of the Item based Collaborative Filtering using cosine is : %.3f' % cosine_ibcf['test_mae'].mean())\n",
        "print('The average RMSE of the Item based Collaborative Filtering using cosine is : %.3f' % cosine_ibcf['test_rmse'].mean())\n",
        "print('The average MAE of the Item based Collaborative Filtering using MSD is : %.3f' % msd_ibcf['test_mae'].mean())\n",
        "print('The average RMSE of the Item based Collaborative Filtering using MSD is : %.3f' % msd_ibcf['test_rmse'].mean())\n",
        "print('The average MAE of the Item based Collaborative Filtering using pearson is : %.3f' % pearson_ibcf['test_mae'].mean())\n",
        "print('The average RMSE of the Item based Collaborative Filtering using pearson is : %.3f' % pearson_ibcf['test_rmse'].mean())"
      ],
      "metadata": {
        "colab": {
          "base_uri": "https://localhost:8080/"
        },
        "id": "WD22Nbgdim0L",
        "outputId": "59c165a3-89d6-4f30-eea7-e8746c146fe6"
      },
      "execution_count": 129,
      "outputs": [
        {
          "output_type": "stream",
          "name": "stdout",
          "text": [
            "===== User based Collaborative Filtering =====\n",
            "The average MAE of the User based Collaborative Filtering using cosine is : 0.767\n",
            "The average RMSE of the User based Collaborative Filtering using cosine is : 0.993\n",
            "The average MAE of the User based Collaborative Filtering using MSD is : 0.744\n",
            "The average RMSE of the User based Collaborative Filtering using MSD is : 0.968\n",
            "The average MAE of the User based Collaborative Filtering using pearson is : 0.774\n",
            "The average RMSE of the User based Collaborative Filtering using pearson is : 1.000\n",
            "===== Item based Collaborative Filtering =====\n",
            "The average MAE of the Item based Collaborative Filtering using cosine is : 0.775\n",
            "The average RMSE of the Item based Collaborative Filtering using cosine is : 0.995\n",
            "The average MAE of the Item based Collaborative Filtering using MSD is : 0.721\n",
            "The average RMSE of the Item based Collaborative Filtering using MSD is : 0.935\n",
            "The average MAE of the Item based Collaborative Filtering using pearson is : 0.768\n",
            "The average RMSE of the Item based Collaborative Filtering using pearson is : 0.989\n"
          ]
        }
      ]
    },
    {
      "cell_type": "code",
      "source": [
        "result_data = {'cosine':cosine_ubcf['test_mae'].mean(),'msd':msd_ubcf['test_mae'].mean(),'pearson':pearson_ubcf['test_mae'].mean()}\n",
        "names = list(result_data.keys())\n",
        "values = list(result_data.values())\n",
        "  \n",
        "fig = plt.figure(figsize = (10, 5))\n",
        " \n",
        "# creating the bar plot\n",
        "spaced = np.arange(len(names))\n",
        "plt.bar(spaced, values, color ='maroon', width = 0.4)\n",
        "plt.xticks(spaced, names)\n",
        "plt.ylim(min(values) - .03, max(values) + .03)\n",
        " \n",
        "plt.xlabel(\"similarities\")\n",
        "plt.ylabel(\"Average(mean)\")\n",
        "plt.title(\"similarities impact on the performances of User based Collaborative Filtering based on MAE\")\n",
        "plt.show()"
      ],
      "metadata": {
        "colab": {
          "base_uri": "https://localhost:8080/",
          "height": 350
        },
        "id": "5UnPShLgjIU6",
        "outputId": "1cc67b56-6d76-4ae8-f930-46f5cdeedd1c"
      },
      "execution_count": 130,
      "outputs": [
        {
          "output_type": "display_data",
          "data": {
            "text/plain": [
              "<Figure size 720x360 with 1 Axes>"
            ],
            "image/png": "[encoded data removed]"
          },
          "metadata": {
            "needs_background": "light"
          }
        }
      ]
    },
    {
      "cell_type": "code",
      "source": [
        "result_data = {'cosine':cosine_ubcf['test_rmse'].mean(),'msd':msd_ubcf['test_rmse'].mean(),'pearson':pearson_ubcf['test_rmse'].mean()}\n",
        "names = list(result_data.keys())\n",
        "values = list(result_data.values())\n",
        "  \n",
        "fig = plt.figure(figsize = (10, 5))\n",
        " \n",
        "# creating the bar plot\n",
        "spaced = np.arange(len(names))\n",
        "plt.bar(spaced, values, color ='maroon', width = 0.4)\n",
        "plt.xticks(spaced, names)\n",
        "plt.ylim(min(values) - .03, max(values) + .03)\n",
        " \n",
        "plt.xlabel(\"similarities\")\n",
        "plt.ylabel(\"Average(mean)\")\n",
        "plt.title(\"similarities impact on the performances of User based Collaborative Filtering based on RMSE\")\n",
        "plt.show()"
      ],
      "metadata": {
        "colab": {
          "base_uri": "https://localhost:8080/",
          "height": 350
        },
        "id": "RmJ_xvbpnXFG",
        "outputId": "80815f11-dacb-4d40-97f8-3fda70c06f37"
      },
      "execution_count": 131,
      "outputs": [
        {
          "output_type": "display_data",
          "data": {
            "text/plain": [
              "<Figure size 720x360 with 1 Axes>"
            ],
            "image/png": "[encoded data removed]"
          },
          "metadata": {
            "needs_background": "light"
          }
        }
      ]
    },
    {
      "cell_type": "code",
      "source": [
        "result_data = {'cosine':cosine_ibcf['test_mae'].mean(),'msd':msd_ibcf['test_mae'].mean(),'pearson':pearson_ibcf['test_mae'].mean()}\n",
        "names = list(result_data.keys())\n",
        "values = list(result_data.values())\n",
        "  \n",
        "fig = plt.figure(figsize = (10, 5))\n",
        " \n",
        "# creating the bar plot\n",
        "spaced = np.arange(len(names))\n",
        "plt.bar(spaced, values, color ='maroon', width = 0.4)\n",
        "plt.xticks(spaced, names)\n",
        "plt.ylim(min(values) - .03, max(values) + .03)\n",
        " \n",
        "plt.xlabel(\"similarities\")\n",
        "plt.ylabel(\"Average(mean)\")\n",
        "plt.title(\"similarities impact on the performances of Item based Collaborative Filtering based on MAE\")\n",
        "plt.show()"
      ],
      "metadata": {
        "colab": {
          "base_uri": "https://localhost:8080/",
          "height": 350
        },
        "id": "ZCZupMwTlLLk",
        "outputId": "e0d9ee11-eb00-4437-a987-109d382ddca3"
      },
      "execution_count": 132,
      "outputs": [
        {
          "output_type": "display_data",
          "data": {
            "text/plain": [
              "<Figure size 720x360 with 1 Axes>"
            ],
            "image/png": "[encoded data removed]"
          },
          "metadata": {
            "needs_background": "light"
          }
        }
      ]
    },
    {
      "cell_type": "code",
      "source": [
        "result_data = {'cosine':cosine_ibcf['test_rmse'].mean(),'msd':msd_ibcf['test_rmse'].mean(),'pearson':pearson_ibcf['test_rmse'].mean()}\n",
        "names = list(result_data.keys())\n",
        "values = list(result_data.values())\n",
        "  \n",
        "fig = plt.figure(figsize = (10, 5))\n",
        " \n",
        "# creating the bar plot\n",
        "spaced = np.arange(len(names))\n",
        "plt.bar(spaced, values, color ='maroon', width = 0.4)\n",
        "plt.xticks(spaced, names)\n",
        "plt.ylim(min(values) - .03, max(values) + .03)\n",
        " \n",
        "plt.xlabel(\"similarities\")\n",
        "plt.ylabel(\"Average(mean)\")\n",
        "plt.title(\"similarities impact on the performances of Item based Collaborative Filtering based on RMSE\")\n",
        "plt.show()"
      ],
      "metadata": {
        "colab": {
          "base_uri": "https://localhost:8080/",
          "height": 350
        },
        "id": "5fK9NgfqniBM",
        "outputId": "d37781b0-528e-4f3b-fab3-bfed6025c004"
      },
      "execution_count": 133,
      "outputs": [
        {
          "output_type": "display_data",
          "data": {
            "text/plain": [
              "<Figure size 720x360 with 1 Axes>"
            ],
            "image/png": "[encoded data removed]"
          },
          "metadata": {
            "needs_background": "light"
          }
        }
      ]
    },
    {
      "cell_type": "code",
      "source": [
        "#number of neighbors impact on the performances of User based Collaborative Filtering\n",
        "max_mean = 10000\n",
        "best_neighbour =1\n",
        "ubcf_results=[]\n",
        "for x in range(20):\n",
        "  user_based_CF_neighbours = KNNBasic(sim_options={'user_based': True},k=x)\n",
        "  UBCF_neigbours = cross_validate(user_based_CF_neighbours, data, measures=['RMSE', 'MAE'], cv=5, verbose=True)\n",
        "  ubcf_rmse_mean = UBCF_neigbours['test_rmse'].mean()\n",
        "  if(ubcf_rmse_mean < max_mean):\n",
        "    max_mean = ubcf_rmse_mean\n",
        "    best_neighbour = x\n",
        "  ubcf_results.append(ubcf_rmse_mean)\n",
        "print(f'The best neighbour for User based Collaborative Filtering using RMSE is {best_neighbour}and the value is {max_mean}')\n",
        "print('All results for User based Collaborative Filtering using RMSE is',ubcf_results)\n",
        "  \n",
        "\n",
        "  "
      ],
      "metadata": {
        "colab": {
          "base_uri": "https://localhost:8080/"
        },
        "id": "SmKNcBQUpSVH",
        "outputId": "cab339df-e565-45b1-ad93-a88e7ca6bdcc"
      },
      "execution_count": 147,
      "outputs": [
        {
          "output_type": "stream",
          "name": "stdout",
          "text": [
            "Computing the msd similarity matrix...\n",
            "Done computing similarity matrix.\n",
            "Computing the msd similarity matrix...\n",
            "Done computing similarity matrix.\n",
            "Computing the msd similarity matrix...\n",
            "Done computing similarity matrix.\n",
            "Computing the msd similarity matrix...\n",
            "Done computing similarity matrix.\n",
            "Computing the msd similarity matrix...\n",
            "Done computing similarity matrix.\n",
            "Evaluating RMSE, MAE of algorithm KNNBasic on 5 split(s).\n",
            "\n",
            "                  Fold 1  Fold 2  Fold 3  Fold 4  Fold 5  Mean    Std     \n",
            "RMSE (testset)    1.0575  1.0576  1.0571  1.0565  1.0616  1.0581  0.0018  \n",
            "MAE (testset)     0.8494  0.8495  0.8490  0.8476  0.8536  0.8498  0.0020  \n",
            "Fit time          0.14    0.22    0.21    0.23    0.24    0.21    0.03    \n",
            "Test time         1.74    0.91    1.32    0.93    1.37    1.26    0.31    \n",
            "Computing the msd similarity matrix...\n",
            "Done computing similarity matrix.\n",
            "Computing the msd similarity matrix...\n",
            "Done computing similarity matrix.\n",
            "Computing the msd similarity matrix...\n",
            "Done computing similarity matrix.\n",
            "Computing the msd similarity matrix...\n",
            "Done computing similarity matrix.\n",
            "Computing the msd similarity matrix...\n",
            "Done computing similarity matrix.\n",
            "Evaluating RMSE, MAE of algorithm KNNBasic on 5 split(s).\n",
            "\n",
            "                  Fold 1  Fold 2  Fold 3  Fold 4  Fold 5  Mean    Std     \n",
            "RMSE (testset)    1.2046  1.2104  1.2045  1.2107  1.2040  1.2068  0.0030  \n",
            "MAE (testset)     0.9024  0.9004  0.8984  0.9068  0.8971  0.9010  0.0034  \n",
            "Fit time          0.18    0.23    0.21    0.17    0.24    0.20    0.03    \n",
            "Test time         1.11    1.09    1.19    1.00    1.08    1.09    0.06    \n",
            "Computing the msd similarity matrix...\n",
            "Done computing similarity matrix.\n",
            "Computing the msd similarity matrix...\n",
            "Done computing similarity matrix.\n",
            "Computing the msd similarity matrix...\n",
            "Done computing similarity matrix.\n",
            "Computing the msd similarity matrix...\n",
            "Done computing similarity matrix.\n",
            "Computing the msd similarity matrix...\n",
            "Done computing similarity matrix.\n",
            "Evaluating RMSE, MAE of algorithm KNNBasic on 5 split(s).\n",
            "\n",
            "                  Fold 1  Fold 2  Fold 3  Fold 4  Fold 5  Mean    Std     \n",
            "RMSE (testset)    1.0629  1.0833  1.0736  1.0703  1.0678  1.0716  0.0068  \n",
            "MAE (testset)     0.8087  0.8277  0.8162  0.8168  0.8129  0.8165  0.0063  \n",
            "Fit time          0.18    0.18    0.23    0.17    0.23    0.20    0.03    \n",
            "Test time         1.77    1.06    1.53    1.14    1.16    1.33    0.27    \n",
            "Computing the msd similarity matrix...\n",
            "Done computing similarity matrix.\n",
            "Computing the msd similarity matrix...\n",
            "Done computing similarity matrix.\n",
            "Computing the msd similarity matrix...\n",
            "Done computing similarity matrix.\n",
            "Computing the msd similarity matrix...\n",
            "Done computing similarity matrix.\n",
            "Computing the msd similarity matrix...\n",
            "Done computing similarity matrix.\n",
            "Evaluating RMSE, MAE of algorithm KNNBasic on 5 split(s).\n",
            "\n",
            "                  Fold 1  Fold 2  Fold 3  Fold 4  Fold 5  Mean    Std     \n",
            "RMSE (testset)    1.0180  1.0228  1.0212  1.0310  1.0159  1.0218  0.0052  \n",
            "MAE (testset)     0.7760  0.7821  0.7820  0.7881  0.7795  0.7816  0.0039  \n",
            "Fit time          0.17    0.17    0.18    0.22    0.18    0.19    0.02    \n",
            "Test time         1.20    1.17    1.46    1.18    1.22    1.25    0.11    \n",
            "Computing the msd similarity matrix...\n",
            "Done computing similarity matrix.\n",
            "Computing the msd similarity matrix...\n",
            "Done computing similarity matrix.\n",
            "Computing the msd similarity matrix...\n",
            "Done computing similarity matrix.\n",
            "Computing the msd similarity matrix...\n",
            "Done computing similarity matrix.\n",
            "Computing the msd similarity matrix...\n",
            "Done computing similarity matrix.\n",
            "Evaluating RMSE, MAE of algorithm KNNBasic on 5 split(s).\n",
            "\n",
            "                  Fold 1  Fold 2  Fold 3  Fold 4  Fold 5  Mean    Std     \n",
            "RMSE (testset)    1.0010  1.0031  0.9903  0.9985  1.0003  0.9986  0.0044  \n",
            "MAE (testset)     0.7695  0.7677  0.7569  0.7652  0.7650  0.7648  0.0043  \n",
            "Fit time          0.16    0.22    0.18    0.17    0.18    0.18    0.02    \n",
            "Test time         1.46    1.28    1.09    1.10    1.17    1.22    0.14    \n",
            "Computing the msd similarity matrix...\n",
            "Done computing similarity matrix.\n",
            "Computing the msd similarity matrix...\n",
            "Done computing similarity matrix.\n",
            "Computing the msd similarity matrix...\n",
            "Done computing similarity matrix.\n",
            "Computing the msd similarity matrix...\n",
            "Done computing similarity matrix.\n",
            "Computing the msd similarity matrix...\n",
            "Done computing similarity matrix.\n",
            "Evaluating RMSE, MAE of algorithm KNNBasic on 5 split(s).\n",
            "\n",
            "                  Fold 1  Fold 2  Fold 3  Fold 4  Fold 5  Mean    Std     \n",
            "RMSE (testset)    0.9914  0.9867  0.9739  0.9842  0.9932  0.9859  0.0068  \n",
            "MAE (testset)     0.7583  0.7558  0.7461  0.7528  0.7597  0.7545  0.0048  \n",
            "Fit time          0.16    0.22    0.18    0.19    0.18    0.19    0.02    \n",
            "Test time         1.69    1.12    1.14    1.14    1.32    1.28    0.22    \n",
            "Computing the msd similarity matrix...\n",
            "Done computing similarity matrix.\n",
            "Computing the msd similarity matrix...\n",
            "Done computing similarity matrix.\n",
            "Computing the msd similarity matrix...\n",
            "Done computing similarity matrix.\n",
            "Computing the msd similarity matrix...\n",
            "Done computing similarity matrix.\n",
            "Computing the msd similarity matrix...\n",
            "Done computing similarity matrix.\n",
            "Evaluating RMSE, MAE of algorithm KNNBasic on 5 split(s).\n",
            "\n",
            "                  Fold 1  Fold 2  Fold 3  Fold 4  Fold 5  Mean    Std     \n",
            "RMSE (testset)    0.9762  0.9782  0.9785  0.9776  0.9845  0.9790  0.0029  \n",
            "MAE (testset)     0.7468  0.7492  0.7517  0.7472  0.7518  0.7493  0.0021  \n",
            "Fit time          0.17    0.26    0.22    0.50    0.18    0.26    0.12    \n",
            "Test time         1.67    2.12    1.39    1.95    1.34    1.69    0.31    \n",
            "Computing the msd similarity matrix...\n",
            "Done computing similarity matrix.\n",
            "Computing the msd similarity matrix...\n",
            "Done computing similarity matrix.\n",
            "Computing the msd similarity matrix...\n",
            "Done computing similarity matrix.\n",
            "Computing the msd similarity matrix...\n",
            "Done computing similarity matrix.\n",
            "Computing the msd similarity matrix...\n",
            "Done computing similarity matrix.\n",
            "Evaluating RMSE, MAE of algorithm KNNBasic on 5 split(s).\n",
            "\n",
            "                  Fold 1  Fold 2  Fold 3  Fold 4  Fold 5  Mean    Std     \n",
            "RMSE (testset)    0.9817  0.9604  0.9724  0.9829  0.9745  0.9744  0.0081  \n",
            "MAE (testset)     0.7489  0.7353  0.7438  0.7512  0.7450  0.7448  0.0055  \n",
            "Fit time          0.16    0.17    0.22    0.23    0.22    0.20    0.03    \n",
            "Test time         1.38    1.15    1.39    1.71    1.31    1.39    0.18    \n",
            "Computing the msd similarity matrix...\n",
            "Done computing similarity matrix.\n",
            "Computing the msd similarity matrix...\n",
            "Done computing similarity matrix.\n",
            "Computing the msd similarity matrix...\n",
            "Done computing similarity matrix.\n",
            "Computing the msd similarity matrix...\n",
            "Done computing similarity matrix.\n",
            "Computing the msd similarity matrix...\n",
            "Done computing similarity matrix.\n",
            "Evaluating RMSE, MAE of algorithm KNNBasic on 5 split(s).\n",
            "\n",
            "                  Fold 1  Fold 2  Fold 3  Fold 4  Fold 5  Mean    Std     \n",
            "RMSE (testset)    0.9754  0.9733  0.9647  0.9579  0.9769  0.9696  0.0073  \n",
            "MAE (testset)     0.7452  0.7452  0.7383  0.7332  0.7475  0.7419  0.0053  \n",
            "Fit time          0.14    0.23    0.17    0.22    0.18    0.19    0.03    \n",
            "Test time         1.59    1.18    1.19    2.32    1.42    1.54    0.42    \n",
            "Computing the msd similarity matrix...\n",
            "Done computing similarity matrix.\n",
            "Computing the msd similarity matrix...\n",
            "Done computing similarity matrix.\n",
            "Computing the msd similarity matrix...\n",
            "Done computing similarity matrix.\n",
            "Computing the msd similarity matrix...\n",
            "Done computing similarity matrix.\n",
            "Computing the msd similarity matrix...\n",
            "Done computing similarity matrix.\n",
            "Evaluating RMSE, MAE of algorithm KNNBasic on 5 split(s).\n",
            "\n",
            "                  Fold 1  Fold 2  Fold 3  Fold 4  Fold 5  Mean    Std     \n",
            "RMSE (testset)    0.9671  0.9605  0.9655  0.9643  0.9751  0.9665  0.0048  \n",
            "MAE (testset)     0.7411  0.7355  0.7383  0.7398  0.7422  0.7394  0.0023  \n",
            "Fit time          0.18    0.23    0.18    0.23    0.22    0.21    0.02    \n",
            "Test time         1.28    1.42    1.42    1.65    1.40    1.43    0.12    \n",
            "Computing the msd similarity matrix...\n",
            "Done computing similarity matrix.\n",
            "Computing the msd similarity matrix...\n",
            "Done computing similarity matrix.\n",
            "Computing the msd similarity matrix...\n",
            "Done computing similarity matrix.\n",
            "Computing the msd similarity matrix...\n",
            "Done computing similarity matrix.\n",
            "Computing the msd similarity matrix...\n",
            "Done computing similarity matrix.\n",
            "Evaluating RMSE, MAE of algorithm KNNBasic on 5 split(s).\n",
            "\n",
            "                  Fold 1  Fold 2  Fold 3  Fold 4  Fold 5  Mean    Std     \n",
            "RMSE (testset)    0.9695  0.9651  0.9620  0.9671  0.9594  0.9646  0.0036  \n",
            "MAE (testset)     0.7432  0.7382  0.7356  0.7382  0.7338  0.7378  0.0032  \n",
            "Fit time          0.23    0.18    0.25    0.25    0.23    0.23    0.03    \n",
            "Test time         1.91    1.59    1.48    1.49    1.37    1.57    0.19    \n",
            "Computing the msd similarity matrix...\n",
            "Done computing similarity matrix.\n",
            "Computing the msd similarity matrix...\n",
            "Done computing similarity matrix.\n",
            "Computing the msd similarity matrix...\n",
            "Done computing similarity matrix.\n",
            "Computing the msd similarity matrix...\n",
            "Done computing similarity matrix.\n",
            "Computing the msd similarity matrix...\n",
            "Done computing similarity matrix.\n",
            "Evaluating RMSE, MAE of algorithm KNNBasic on 5 split(s).\n",
            "\n",
            "                  Fold 1  Fold 2  Fold 3  Fold 4  Fold 5  Mean    Std     \n",
            "RMSE (testset)    0.9557  0.9651  0.9700  0.9673  0.9531  0.9623  0.0066  \n",
            "MAE (testset)     0.7287  0.7393  0.7426  0.7404  0.7284  0.7359  0.0061  \n",
            "Fit time          0.18    0.18    0.23    0.19    0.25    0.20    0.03    \n",
            "Test time         1.39    1.79    1.43    1.32    1.41    1.47    0.17    \n",
            "Computing the msd similarity matrix...\n",
            "Done computing similarity matrix.\n",
            "Computing the msd similarity matrix...\n",
            "Done computing similarity matrix.\n",
            "Computing the msd similarity matrix...\n",
            "Done computing similarity matrix.\n",
            "Computing the msd similarity matrix...\n",
            "Done computing similarity matrix.\n",
            "Computing the msd similarity matrix...\n",
            "Done computing similarity matrix.\n",
            "Evaluating RMSE, MAE of algorithm KNNBasic on 5 split(s).\n",
            "\n",
            "                  Fold 1  Fold 2  Fold 3  Fold 4  Fold 5  Mean    Std     \n",
            "RMSE (testset)    0.9499  0.9571  0.9603  0.9727  0.9702  0.9620  0.0084  \n",
            "MAE (testset)     0.7289  0.7308  0.7340  0.7438  0.7433  0.7361  0.0062  \n",
            "Fit time          0.18    0.23    0.23    0.23    0.21    0.22    0.02    \n",
            "Test time         1.50    1.89    1.40    1.51    1.58    1.58    0.17    \n",
            "Computing the msd similarity matrix...\n",
            "Done computing similarity matrix.\n",
            "Computing the msd similarity matrix...\n",
            "Done computing similarity matrix.\n",
            "Computing the msd similarity matrix...\n",
            "Done computing similarity matrix.\n",
            "Computing the msd similarity matrix...\n",
            "Done computing similarity matrix.\n",
            "Computing the msd similarity matrix...\n",
            "Done computing similarity matrix.\n",
            "Evaluating RMSE, MAE of algorithm KNNBasic on 5 split(s).\n",
            "\n",
            "                  Fold 1  Fold 2  Fold 3  Fold 4  Fold 5  Mean    Std     \n",
            "RMSE (testset)    0.9624  0.9695  0.9544  0.9618  0.9605  0.9617  0.0048  \n",
            "MAE (testset)     0.7379  0.7416  0.7335  0.7349  0.7341  0.7364  0.0030  \n",
            "Fit time          0.15    0.22    0.24    0.19    0.33    0.23    0.06    \n",
            "Test time         1.39    1.71    1.48    1.78    2.31    1.73    0.32    \n",
            "Computing the msd similarity matrix...\n",
            "Done computing similarity matrix.\n",
            "Computing the msd similarity matrix...\n",
            "Done computing similarity matrix.\n",
            "Computing the msd similarity matrix...\n",
            "Done computing similarity matrix.\n",
            "Computing the msd similarity matrix...\n",
            "Done computing similarity matrix.\n",
            "Computing the msd similarity matrix...\n",
            "Done computing similarity matrix.\n",
            "Evaluating RMSE, MAE of algorithm KNNBasic on 5 split(s).\n",
            "\n",
            "                  Fold 1  Fold 2  Fold 3  Fold 4  Fold 5  Mean    Std     \n",
            "RMSE (testset)    0.9599  0.9648  0.9631  0.9617  0.9605  0.9620  0.0018  \n",
            "MAE (testset)     0.7362  0.7372  0.7392  0.7371  0.7332  0.7366  0.0020  \n",
            "Fit time          0.15    0.17    0.24    0.21    0.24    0.20    0.04    \n",
            "Test time         1.34    1.38    1.57    1.38    1.68    1.47    0.13    \n",
            "Computing the msd similarity matrix...\n",
            "Done computing similarity matrix.\n",
            "Computing the msd similarity matrix...\n",
            "Done computing similarity matrix.\n",
            "Computing the msd similarity matrix...\n",
            "Done computing similarity matrix.\n",
            "Computing the msd similarity matrix...\n",
            "Done computing similarity matrix.\n",
            "Computing the msd similarity matrix...\n",
            "Done computing similarity matrix.\n",
            "Evaluating RMSE, MAE of algorithm KNNBasic on 5 split(s).\n",
            "\n",
            "                  Fold 1  Fold 2  Fold 3  Fold 4  Fold 5  Mean    Std     \n",
            "RMSE (testset)    0.9722  0.9530  0.9493  0.9674  0.9571  0.9598  0.0087  \n",
            "MAE (testset)     0.7444  0.7289  0.7294  0.7406  0.7339  0.7354  0.0061  \n",
            "Fit time          0.15    0.25    0.18    0.22    0.23    0.21    0.04    \n",
            "Test time         1.42    1.37    1.43    1.39    1.83    1.49    0.17    \n",
            "Computing the msd similarity matrix...\n",
            "Done computing similarity matrix.\n",
            "Computing the msd similarity matrix...\n",
            "Done computing similarity matrix.\n",
            "Computing the msd similarity matrix...\n",
            "Done computing similarity matrix.\n",
            "Computing the msd similarity matrix...\n",
            "Done computing similarity matrix.\n",
            "Computing the msd similarity matrix...\n",
            "Done computing similarity matrix.\n",
            "Evaluating RMSE, MAE of algorithm KNNBasic on 5 split(s).\n",
            "\n",
            "                  Fold 1  Fold 2  Fold 3  Fold 4  Fold 5  Mean    Std     \n",
            "RMSE (testset)    0.9591  0.9613  0.9649  0.9569  0.9684  0.9621  0.0041  \n",
            "MAE (testset)     0.7318  0.7392  0.7406  0.7337  0.7406  0.7372  0.0037  \n",
            "Fit time          0.18    0.17    0.24    0.18    0.23    0.20    0.03    \n",
            "Test time         1.39    1.56    1.46    1.42    1.67    1.50    0.10    \n",
            "Computing the msd similarity matrix...\n",
            "Done computing similarity matrix.\n",
            "Computing the msd similarity matrix...\n",
            "Done computing similarity matrix.\n",
            "Computing the msd similarity matrix...\n",
            "Done computing similarity matrix.\n",
            "Computing the msd similarity matrix...\n",
            "Done computing similarity matrix.\n",
            "Computing the msd similarity matrix...\n",
            "Done computing similarity matrix.\n",
            "Evaluating RMSE, MAE of algorithm KNNBasic on 5 split(s).\n",
            "\n",
            "                  Fold 1  Fold 2  Fold 3  Fold 4  Fold 5  Mean    Std     \n",
            "RMSE (testset)    0.9678  0.9580  0.9626  0.9562  0.9619  0.9613  0.0040  \n",
            "MAE (testset)     0.7392  0.7330  0.7383  0.7326  0.7383  0.7363  0.0028  \n",
            "Fit time          0.15    0.17    0.28    0.23    0.23    0.21    0.05    \n",
            "Test time         1.55    1.78    2.23    1.47    1.57    1.72    0.27    \n",
            "Computing the msd similarity matrix...\n",
            "Done computing similarity matrix.\n",
            "Computing the msd similarity matrix...\n",
            "Done computing similarity matrix.\n",
            "Computing the msd similarity matrix...\n",
            "Done computing similarity matrix.\n",
            "Computing the msd similarity matrix...\n",
            "Done computing similarity matrix.\n",
            "Computing the msd similarity matrix...\n",
            "Done computing similarity matrix.\n",
            "Evaluating RMSE, MAE of algorithm KNNBasic on 5 split(s).\n",
            "\n",
            "                  Fold 1  Fold 2  Fold 3  Fold 4  Fold 5  Mean    Std     \n",
            "RMSE (testset)    0.9586  0.9661  0.9633  0.9639  0.9614  0.9627  0.0026  \n",
            "MAE (testset)     0.7348  0.7424  0.7402  0.7391  0.7356  0.7384  0.0028  \n",
            "Fit time          0.15    0.18    0.18    0.22    0.22    0.19    0.03    \n",
            "Test time         1.55    1.38    1.92    1.60    1.40    1.57    0.19    \n",
            "Computing the msd similarity matrix...\n",
            "Done computing similarity matrix.\n",
            "Computing the msd similarity matrix...\n",
            "Done computing similarity matrix.\n",
            "Computing the msd similarity matrix...\n",
            "Done computing similarity matrix.\n",
            "Computing the msd similarity matrix...\n",
            "Done computing similarity matrix.\n",
            "Computing the msd similarity matrix...\n",
            "Done computing similarity matrix.\n",
            "Evaluating RMSE, MAE of algorithm KNNBasic on 5 split(s).\n",
            "\n",
            "                  Fold 1  Fold 2  Fold 3  Fold 4  Fold 5  Mean    Std     \n",
            "RMSE (testset)    0.9658  0.9655  0.9507  0.9671  0.9585  0.9615  0.0062  \n",
            "MAE (testset)     0.7399  0.7393  0.7303  0.7409  0.7341  0.7369  0.0041  \n",
            "Fit time          0.17    0.19    0.18    0.19    0.17    0.18    0.01    \n",
            "Test time         1.63    1.38    1.78    1.41    1.62    1.56    0.15    \n",
            "The best neighbour for User based Collaborative Filtering using RMSE is 15and the value is 0.9597980749421954\n",
            "All results for User based Collaborative Filtering using RMSE is [1.0580643124261553, 1.2068351299357236, 1.0715879737376754, 1.0217969678259131, 0.9986494932763123, 0.9858915732291518, 0.9789941303215886, 0.974396725061559, 0.9696397854412387, 0.966510610610323, 0.9646057320780844, 0.9622638591167091, 0.9620161589466958, 0.9617230069038056, 0.9619872273109472, 0.9597980749421954, 0.9621354421364667, 0.961310194749346, 0.9626582379800868, 0.9615150659712797]\n"
          ]
        }
      ]
    },
    {
      "cell_type": "code",
      "source": [
        "#number of neighbors impact on the performances of Item based Collaborative Filtering\n",
        "max_mean = 10000\n",
        "best_neighbour =1\n",
        "ibcf_results=[]\n",
        "for x in range(20):\n",
        "  item_based_CF_neighbours = KNNBasic(sim_options={'user_based': False},k=x)\n",
        "  IBCF_neigbours = cross_validate(item_based_CF_neighbours, data, measures=['RMSE', 'MAE'], cv=5, verbose=True)\n",
        "  ibcf_rmse_mean = IBCF_neigbours['test_rmse'].mean()\n",
        "  if(ibcf_rmse_mean < max_mean):\n",
        "    max_mean = ibcf_rmse_mean\n",
        "    best_neighbour = x\n",
        "  ibcf_results.append(ibcf_rmse_mean)\n",
        "print(f'The best neighbour for Item based Collaborative Filtering using RMSE is {best_neighbour} and the value is {max_mean}')\n",
        "print('All results for Item based Collaborative Filtering using RMSE is',ibcf_results)\n",
        "  "
      ],
      "metadata": {
        "colab": {
          "base_uri": "https://localhost:8080/"
        },
        "id": "kjU-ztoVz4cD",
        "outputId": "0a7db1e0-686d-48d5-f4e3-06faf7b5d354"
      },
      "execution_count": 148,
      "outputs": [
        {
          "output_type": "stream",
          "name": "stdout",
          "text": [
            "Computing the msd similarity matrix...\n",
            "Done computing similarity matrix.\n",
            "Computing the msd similarity matrix...\n",
            "Done computing similarity matrix.\n",
            "Computing the msd similarity matrix...\n",
            "Done computing similarity matrix.\n",
            "Computing the msd similarity matrix...\n",
            "Done computing similarity matrix.\n",
            "Computing the msd similarity matrix...\n",
            "Done computing similarity matrix.\n",
            "Evaluating RMSE, MAE of algorithm KNNBasic on 5 split(s).\n",
            "\n",
            "                  Fold 1  Fold 2  Fold 3  Fold 4  Fold 5  Mean    Std     \n",
            "RMSE (testset)    1.0606  1.0602  1.0521  1.0639  1.0536  1.0581  0.0045  \n",
            "MAE (testset)     0.8531  0.8513  0.8452  0.8528  0.8466  0.8498  0.0033  \n",
            "Fit time          6.69    5.59    5.46    4.76    5.27    5.55    0.63    \n",
            "Test time         5.09    3.89    4.66    5.04    4.12    4.56    0.49    \n",
            "Computing the msd similarity matrix...\n",
            "Done computing similarity matrix.\n",
            "Computing the msd similarity matrix...\n",
            "Done computing similarity matrix.\n",
            "Computing the msd similarity matrix...\n",
            "Done computing similarity matrix.\n",
            "Computing the msd similarity matrix...\n",
            "Done computing similarity matrix.\n",
            "Computing the msd similarity matrix...\n",
            "Done computing similarity matrix.\n",
            "Evaluating RMSE, MAE of algorithm KNNBasic on 5 split(s).\n",
            "\n",
            "                  Fold 1  Fold 2  Fold 3  Fold 4  Fold 5  Mean    Std     \n",
            "RMSE (testset)    1.2986  1.2982  1.3090  1.3046  1.3082  1.3037  0.0046  \n",
            "MAE (testset)     0.9642  0.9639  0.9749  0.9657  0.9678  0.9673  0.0040  \n",
            "Fit time          4.83    5.21    5.22    5.99    5.55    5.36    0.39    \n",
            "Test time         6.06    6.44    5.84    6.08    5.68    6.02    0.26    \n",
            "Computing the msd similarity matrix...\n",
            "Done computing similarity matrix.\n",
            "Computing the msd similarity matrix...\n",
            "Done computing similarity matrix.\n",
            "Computing the msd similarity matrix...\n",
            "Done computing similarity matrix.\n",
            "Computing the msd similarity matrix...\n",
            "Done computing similarity matrix.\n",
            "Computing the msd similarity matrix...\n",
            "Done computing similarity matrix.\n",
            "Evaluating RMSE, MAE of algorithm KNNBasic on 5 split(s).\n",
            "\n",
            "                  Fold 1  Fold 2  Fold 3  Fold 4  Fold 5  Mean    Std     \n",
            "RMSE (testset)    1.1457  1.1339  1.1554  1.1366  1.1466  1.1436  0.0077  \n",
            "MAE (testset)     0.8758  0.8649  0.8856  0.8674  0.8752  0.8738  0.0073  \n",
            "Fit time          5.08    5.80    5.16    5.11    5.23    5.28    0.27    \n",
            "Test time         6.10    5.82    6.34    5.98    7.20    6.29    0.49    \n",
            "Computing the msd similarity matrix...\n",
            "Done computing similarity matrix.\n",
            "Computing the msd similarity matrix...\n",
            "Done computing similarity matrix.\n",
            "Computing the msd similarity matrix...\n",
            "Done computing similarity matrix.\n",
            "Computing the msd similarity matrix...\n",
            "Done computing similarity matrix.\n",
            "Computing the msd similarity matrix...\n",
            "Done computing similarity matrix.\n",
            "Evaluating RMSE, MAE of algorithm KNNBasic on 5 split(s).\n",
            "\n",
            "                  Fold 1  Fold 2  Fold 3  Fold 4  Fold 5  Mean    Std     \n",
            "RMSE (testset)    1.0774  1.0812  1.0809  1.0818  1.0815  1.0806  0.0016  \n",
            "MAE (testset)     0.8265  0.8327  0.8323  0.8323  0.8317  0.8311  0.0023  \n",
            "Fit time          4.97    5.32    5.11    5.22    5.01    5.13    0.13    \n",
            "Test time         5.58    5.68    7.05    5.90    6.13    6.07    0.53    \n",
            "Computing the msd similarity matrix...\n",
            "Done computing similarity matrix.\n",
            "Computing the msd similarity matrix...\n",
            "Done computing similarity matrix.\n",
            "Computing the msd similarity matrix...\n",
            "Done computing similarity matrix.\n",
            "Computing the msd similarity matrix...\n",
            "Done computing similarity matrix.\n",
            "Computing the msd similarity matrix...\n",
            "Done computing similarity matrix.\n",
            "Evaluating RMSE, MAE of algorithm KNNBasic on 5 split(s).\n",
            "\n",
            "                  Fold 1  Fold 2  Fold 3  Fold 4  Fold 5  Mean    Std     \n",
            "RMSE (testset)    1.0362  1.0418  1.0565  1.0462  1.0415  1.0444  0.0068  \n",
            "MAE (testset)     0.7984  0.8070  0.8181  0.8049  0.8028  0.8062  0.0066  \n",
            "Fit time          4.27    5.82    5.27    5.11    9.30    5.95    1.75    \n",
            "Test time         6.10    6.02    5.80    6.48    6.46    6.17    0.26    \n",
            "Computing the msd similarity matrix...\n",
            "Done computing similarity matrix.\n",
            "Computing the msd similarity matrix...\n",
            "Done computing similarity matrix.\n",
            "Computing the msd similarity matrix...\n",
            "Done computing similarity matrix.\n",
            "Computing the msd similarity matrix...\n",
            "Done computing similarity matrix.\n",
            "Computing the msd similarity matrix...\n",
            "Done computing similarity matrix.\n",
            "Evaluating RMSE, MAE of algorithm KNNBasic on 5 split(s).\n",
            "\n",
            "                  Fold 1  Fold 2  Fold 3  Fold 4  Fold 5  Mean    Std     \n",
            "RMSE (testset)    1.0239  1.0289  1.0195  1.0156  1.0191  1.0214  0.0045  \n",
            "MAE (testset)     0.7912  0.7953  0.7874  0.7840  0.7879  0.7891  0.0038  \n",
            "Fit time          4.98    4.62    6.10    6.01    5.33    5.41    0.57    \n",
            "Test time         6.50    6.33    5.56    6.41    5.78    6.12    0.37    \n",
            "Computing the msd similarity matrix...\n",
            "Done computing similarity matrix.\n",
            "Computing the msd similarity matrix...\n",
            "Done computing similarity matrix.\n",
            "Computing the msd similarity matrix...\n",
            "Done computing similarity matrix.\n",
            "Computing the msd similarity matrix...\n",
            "Done computing similarity matrix.\n",
            "Computing the msd similarity matrix...\n",
            "Done computing similarity matrix.\n",
            "Evaluating RMSE, MAE of algorithm KNNBasic on 5 split(s).\n",
            "\n",
            "                  Fold 1  Fold 2  Fold 3  Fold 4  Fold 5  Mean    Std     \n",
            "RMSE (testset)    1.0064  1.0080  1.0138  1.0047  1.0110  1.0088  0.0033  \n",
            "MAE (testset)     0.7787  0.7792  0.7800  0.7789  0.7804  0.7794  0.0007  \n",
            "Fit time          5.13    5.31    4.64    5.55    5.46    5.22    0.32    \n",
            "Test time         7.01    5.97    6.15    6.28    6.05    6.29    0.37    \n",
            "Computing the msd similarity matrix...\n",
            "Done computing similarity matrix.\n",
            "Computing the msd similarity matrix...\n",
            "Done computing similarity matrix.\n",
            "Computing the msd similarity matrix...\n",
            "Done computing similarity matrix.\n",
            "Computing the msd similarity matrix...\n",
            "Done computing similarity matrix.\n",
            "Computing the msd similarity matrix...\n",
            "Done computing similarity matrix.\n",
            "Evaluating RMSE, MAE of algorithm KNNBasic on 5 split(s).\n",
            "\n",
            "                  Fold 1  Fold 2  Fold 3  Fold 4  Fold 5  Mean    Std     \n",
            "RMSE (testset)    0.9942  0.9963  0.9965  0.9956  0.9911  0.9947  0.0020  \n",
            "MAE (testset)     0.7710  0.7697  0.7697  0.7738  0.7673  0.7703  0.0021  \n",
            "Fit time          5.87    5.47    5.72    5.21    4.83    5.42    0.37    \n",
            "Test time         6.66    5.99    6.50    6.32    6.19    6.33    0.23    \n",
            "Computing the msd similarity matrix...\n",
            "Done computing similarity matrix.\n",
            "Computing the msd similarity matrix...\n",
            "Done computing similarity matrix.\n",
            "Computing the msd similarity matrix...\n",
            "Done computing similarity matrix.\n",
            "Computing the msd similarity matrix...\n",
            "Done computing similarity matrix.\n",
            "Computing the msd similarity matrix...\n",
            "Done computing similarity matrix.\n",
            "Evaluating RMSE, MAE of algorithm KNNBasic on 5 split(s).\n",
            "\n",
            "                  Fold 1  Fold 2  Fold 3  Fold 4  Fold 5  Mean    Std     \n",
            "RMSE (testset)    0.9850  0.9857  0.9831  0.9899  0.9919  0.9871  0.0033  \n",
            "MAE (testset)     0.7594  0.7622  0.7620  0.7687  0.7646  0.7634  0.0031  \n",
            "Fit time          6.25    5.60    5.76    5.21    5.22    5.61    0.39    \n",
            "Test time         6.30    6.01    5.93    6.89    6.45    6.32    0.34    \n",
            "Computing the msd similarity matrix...\n",
            "Done computing similarity matrix.\n",
            "Computing the msd similarity matrix...\n",
            "Done computing similarity matrix.\n",
            "Computing the msd similarity matrix...\n",
            "Done computing similarity matrix.\n",
            "Computing the msd similarity matrix...\n",
            "Done computing similarity matrix.\n",
            "Computing the msd similarity matrix...\n",
            "Done computing similarity matrix.\n",
            "Evaluating RMSE, MAE of algorithm KNNBasic on 5 split(s).\n",
            "\n",
            "                  Fold 1  Fold 2  Fold 3  Fold 4  Fold 5  Mean    Std     \n",
            "RMSE (testset)    0.9888  0.9783  0.9751  0.9822  0.9843  0.9817  0.0047  \n",
            "MAE (testset)     0.7660  0.7579  0.7563  0.7612  0.7602  0.7603  0.0033  \n",
            "Fit time          5.24    4.53    4.64    4.97    4.96    4.87    0.25    \n",
            "Test time         6.25    7.04    5.68    5.74    6.66    6.27    0.52    \n",
            "Computing the msd similarity matrix...\n",
            "Done computing similarity matrix.\n",
            "Computing the msd similarity matrix...\n",
            "Done computing similarity matrix.\n",
            "Computing the msd similarity matrix...\n",
            "Done computing similarity matrix.\n",
            "Computing the msd similarity matrix...\n",
            "Done computing similarity matrix.\n",
            "Computing the msd similarity matrix...\n",
            "Done computing similarity matrix.\n",
            "Evaluating RMSE, MAE of algorithm KNNBasic on 5 split(s).\n",
            "\n",
            "                  Fold 1  Fold 2  Fold 3  Fold 4  Fold 5  Mean    Std     \n",
            "RMSE (testset)    0.9722  0.9793  0.9746  0.9693  0.9751  0.9741  0.0033  \n",
            "MAE (testset)     0.7506  0.7572  0.7534  0.7525  0.7538  0.7535  0.0021  \n",
            "Fit time          5.18    4.94    5.16    6.00    5.33    5.32    0.36    \n",
            "Test time         5.94    6.83    6.38    6.14    6.40    6.34    0.30    \n",
            "Computing the msd similarity matrix...\n",
            "Done computing similarity matrix.\n",
            "Computing the msd similarity matrix...\n",
            "Done computing similarity matrix.\n",
            "Computing the msd similarity matrix...\n",
            "Done computing similarity matrix.\n",
            "Computing the msd similarity matrix...\n",
            "Done computing similarity matrix.\n",
            "Computing the msd similarity matrix...\n",
            "Done computing similarity matrix.\n",
            "Evaluating RMSE, MAE of algorithm KNNBasic on 5 split(s).\n",
            "\n",
            "                  Fold 1  Fold 2  Fold 3  Fold 4  Fold 5  Mean    Std     \n",
            "RMSE (testset)    0.9662  0.9763  0.9706  0.9789  0.9653  0.9715  0.0054  \n",
            "MAE (testset)     0.7481  0.7563  0.7517  0.7549  0.7480  0.7518  0.0034  \n",
            "Fit time          4.88    5.58    4.70    4.77    5.13    5.01    0.32    \n",
            "Test time         6.89    7.00    6.22    5.86    7.26    6.65    0.52    \n",
            "Computing the msd similarity matrix...\n",
            "Done computing similarity matrix.\n",
            "Computing the msd similarity matrix...\n",
            "Done computing similarity matrix.\n",
            "Computing the msd similarity matrix...\n",
            "Done computing similarity matrix.\n",
            "Computing the msd similarity matrix...\n",
            "Done computing similarity matrix.\n",
            "Computing the msd similarity matrix...\n",
            "Done computing similarity matrix.\n",
            "Evaluating RMSE, MAE of algorithm KNNBasic on 5 split(s).\n",
            "\n",
            "                  Fold 1  Fold 2  Fold 3  Fold 4  Fold 5  Mean    Std     \n",
            "RMSE (testset)    0.9569  0.9671  0.9672  0.9741  0.9625  0.9656  0.0057  \n",
            "MAE (testset)     0.7418  0.7487  0.7472  0.7501  0.7457  0.7467  0.0029  \n",
            "Fit time          5.02    5.29    5.61    4.76    4.63    5.06    0.35    \n",
            "Test time         5.76    6.59    7.09    6.64    7.05    6.63    0.48    \n",
            "Computing the msd similarity matrix...\n",
            "Done computing similarity matrix.\n",
            "Computing the msd similarity matrix...\n",
            "Done computing similarity matrix.\n",
            "Computing the msd similarity matrix...\n",
            "Done computing similarity matrix.\n",
            "Computing the msd similarity matrix...\n",
            "Done computing similarity matrix.\n",
            "Computing the msd similarity matrix...\n",
            "Done computing similarity matrix.\n",
            "Evaluating RMSE, MAE of algorithm KNNBasic on 5 split(s).\n",
            "\n",
            "                  Fold 1  Fold 2  Fold 3  Fold 4  Fold 5  Mean    Std     \n",
            "RMSE (testset)    0.9558  0.9687  0.9655  0.9582  0.9561  0.9608  0.0052  \n",
            "MAE (testset)     0.7402  0.7453  0.7473  0.7420  0.7400  0.7429  0.0029  \n",
            "Fit time          5.08    5.31    4.74    5.70    6.32    5.43    0.55    \n",
            "Test time         6.85    6.13    6.55    6.39    6.29    6.44    0.24    \n",
            "Computing the msd similarity matrix...\n",
            "Done computing similarity matrix.\n",
            "Computing the msd similarity matrix...\n",
            "Done computing similarity matrix.\n",
            "Computing the msd similarity matrix...\n",
            "Done computing similarity matrix.\n",
            "Computing the msd similarity matrix...\n",
            "Done computing similarity matrix.\n",
            "Computing the msd similarity matrix...\n",
            "Done computing similarity matrix.\n",
            "Evaluating RMSE, MAE of algorithm KNNBasic on 5 split(s).\n",
            "\n",
            "                  Fold 1  Fold 2  Fold 3  Fold 4  Fold 5  Mean    Std     \n",
            "RMSE (testset)    0.9723  0.9654  0.9561  0.9551  0.9461  0.9590  0.0091  \n",
            "MAE (testset)     0.7514  0.7453  0.7418  0.7394  0.7313  0.7418  0.0066  \n",
            "Fit time          5.07    4.63    5.75    4.44    5.30    5.04    0.47    \n",
            "Test time         6.56    6.34    6.39    6.51    6.92    6.55    0.21    \n",
            "Computing the msd similarity matrix...\n",
            "Done computing similarity matrix.\n",
            "Computing the msd similarity matrix...\n",
            "Done computing similarity matrix.\n",
            "Computing the msd similarity matrix...\n",
            "Done computing similarity matrix.\n",
            "Computing the msd similarity matrix...\n",
            "Done computing similarity matrix.\n",
            "Computing the msd similarity matrix...\n",
            "Done computing similarity matrix.\n",
            "Evaluating RMSE, MAE of algorithm KNNBasic on 5 split(s).\n",
            "\n",
            "                  Fold 1  Fold 2  Fold 3  Fold 4  Fold 5  Mean    Std     \n",
            "RMSE (testset)    0.9532  0.9603  0.9567  0.9590  0.9608  0.9580  0.0028  \n",
            "MAE (testset)     0.7331  0.7454  0.7382  0.7425  0.7420  0.7403  0.0042  \n",
            "Fit time          9.11    5.12    4.25    5.45    5.40    5.86    1.68    \n",
            "Test time         6.58    6.55    7.17    7.23    6.49    6.80    0.33    \n",
            "Computing the msd similarity matrix...\n",
            "Done computing similarity matrix.\n",
            "Computing the msd similarity matrix...\n",
            "Done computing similarity matrix.\n",
            "Computing the msd similarity matrix...\n",
            "Done computing similarity matrix.\n",
            "Computing the msd similarity matrix...\n",
            "Done computing similarity matrix.\n",
            "Computing the msd similarity matrix...\n",
            "Done computing similarity matrix.\n",
            "Evaluating RMSE, MAE of algorithm KNNBasic on 5 split(s).\n",
            "\n",
            "                  Fold 1  Fold 2  Fold 3  Fold 4  Fold 5  Mean    Std     \n",
            "RMSE (testset)    0.9603  0.9612  0.9502  0.9497  0.9543  0.9551  0.0049  \n",
            "MAE (testset)     0.7407  0.7434  0.7348  0.7313  0.7394  0.7379  0.0043  \n",
            "Fit time          5.01    5.19    5.46    6.78    4.93    5.47    0.68    \n",
            "Test time         6.90    7.42    6.58    6.54    7.36    6.96    0.37    \n",
            "Computing the msd similarity matrix...\n",
            "Done computing similarity matrix.\n",
            "Computing the msd similarity matrix...\n",
            "Done computing similarity matrix.\n",
            "Computing the msd similarity matrix...\n",
            "Done computing similarity matrix.\n",
            "Computing the msd similarity matrix...\n",
            "Done computing similarity matrix.\n",
            "Computing the msd similarity matrix...\n",
            "Done computing similarity matrix.\n",
            "Evaluating RMSE, MAE of algorithm KNNBasic on 5 split(s).\n",
            "\n",
            "                  Fold 1  Fold 2  Fold 3  Fold 4  Fold 5  Mean    Std     \n",
            "RMSE (testset)    0.9632  0.9466  0.9503  0.9467  0.9529  0.9519  0.0061  \n",
            "MAE (testset)     0.7472  0.7330  0.7326  0.7319  0.7360  0.7362  0.0057  \n",
            "Fit time          4.76    4.93    4.41    4.64    4.65    4.68    0.17    \n",
            "Test time         6.70    6.82    8.01    6.52    7.03    7.02    0.52    \n",
            "Computing the msd similarity matrix...\n",
            "Done computing similarity matrix.\n",
            "Computing the msd similarity matrix...\n",
            "Done computing similarity matrix.\n",
            "Computing the msd similarity matrix...\n",
            "Done computing similarity matrix.\n",
            "Computing the msd similarity matrix...\n",
            "Done computing similarity matrix.\n",
            "Computing the msd similarity matrix...\n",
            "Done computing similarity matrix.\n",
            "Evaluating RMSE, MAE of algorithm KNNBasic on 5 split(s).\n",
            "\n",
            "                  Fold 1  Fold 2  Fold 3  Fold 4  Fold 5  Mean    Std     \n",
            "RMSE (testset)    0.9438  0.9515  0.9529  0.9523  0.9482  0.9497  0.0034  \n",
            "MAE (testset)     0.7301  0.7328  0.7375  0.7389  0.7344  0.7347  0.0031  \n",
            "Fit time          4.74    5.09    4.73    5.44    5.79    5.16    0.41    \n",
            "Test time         8.03    6.74    7.33    7.84    6.83    7.36    0.52    \n",
            "Computing the msd similarity matrix...\n",
            "Done computing similarity matrix.\n",
            "Computing the msd similarity matrix...\n",
            "Done computing similarity matrix.\n",
            "Computing the msd similarity matrix...\n",
            "Done computing similarity matrix.\n",
            "Computing the msd similarity matrix...\n",
            "Done computing similarity matrix.\n",
            "Computing the msd similarity matrix...\n",
            "Done computing similarity matrix.\n",
            "Evaluating RMSE, MAE of algorithm KNNBasic on 5 split(s).\n",
            "\n",
            "                  Fold 1  Fold 2  Fold 3  Fold 4  Fold 5  Mean    Std     \n",
            "RMSE (testset)    0.9499  0.9452  0.9493  0.9488  0.9443  0.9475  0.0023  \n",
            "MAE (testset)     0.7327  0.7322  0.7361  0.7333  0.7308  0.7330  0.0018  \n",
            "Fit time          4.26    5.03    5.25    5.94    5.10    5.11    0.54    \n",
            "Test time         6.31    8.12    6.55    7.73    7.81    7.31    0.73    \n",
            "The best neighbour for Item based Collaborative Filtering using RMSE is 19 and the value is 0.9475157793071073\n",
            "All results for Item based Collaborative Filtering using RMSE is [1.0580719023737708, 1.3037264045801304, 1.1436193087096034, 1.0805722207180266, 1.0444489290009202, 1.0214002830605757, 1.0087778414187416, 0.9947475553332765, 0.9871416871418688, 0.9817327178429747, 0.9740938771926398, 0.9714517075370737, 0.9655707562501081, 0.960845890651534, 0.9590042035196527, 0.9579905798530529, 0.9551173914365304, 0.9519303432003403, 0.9497341748847733, 0.9475157793071073]\n"
          ]
        }
      ]
    },
    {
      "cell_type": "code",
      "source": [
        "#User based Collaborative Filtering\n",
        "plt.plot(ubcf_results)\n",
        "\n",
        "#Item based Collaborative Filtering\n",
        "plt.plot(ibcf_results,color='red')\n",
        "  \n",
        "plt.xlabel(\"No of neighbours(k)\")\n",
        "plt.ylabel(\"RMSE\")\n",
        "plt.title('Neighbors impact on the performances of User based Collaborative Filtering and Item based Collaborative Filtering')\n",
        "plt.show()"
      ],
      "metadata": {
        "colab": {
          "base_uri": "https://localhost:8080/",
          "height": 295
        },
        "id": "gK5O9yhZtd__",
        "outputId": "7f1b4650-ad19-4029-9a8d-919a63298a2a"
      },
      "execution_count": 149,
      "outputs": [
        {
          "output_type": "display_data",
          "data": {
            "text/plain": [
              "<Figure size 432x288 with 1 Axes>"
            ],
            "image/png": "[encoded data removed]"
          },
          "metadata": {
            "needs_background": "light"
          }
        }
      ]
    },
    {
      "cell_type": "code",
      "source": [
        "#User based Collaborative Filtering\n",
        "plt.plot(ubcf_results)  \n",
        "plt.xlabel(\"No of neighbours(k)\")\n",
        "plt.ylabel(\"RMSE\")\n",
        "plt.title('Neighbors impact on the performances of User based Collaborative Filtering')\n",
        "plt.show()"
      ],
      "metadata": {
        "colab": {
          "base_uri": "https://localhost:8080/",
          "height": 295
        },
        "id": "E9EPL85J6_oA",
        "outputId": "cbb99974-a176-42ee-843f-076f76cfda88"
      },
      "execution_count": 151,
      "outputs": [
        {
          "output_type": "display_data",
          "data": {
            "text/plain": [
              "<Figure size 432x288 with 1 Axes>"
            ],
            "image/png": "[encoded data removed]"
          },
          "metadata": {
            "needs_background": "light"
          }
        }
      ]
    },
    {
      "cell_type": "code",
      "source": [
        "#User based Collaborative Filtering\n",
        "plt.plot(ibcf_results,color='red')\n",
        "plt.xlabel(\"No of neighbours(k)\")\n",
        "plt.ylabel(\"RMSE\")\n",
        "plt.title('Neighbors impact on the performances of Item based Collaborative Filtering')\n",
        "plt.show()"
      ],
      "metadata": {
        "colab": {
          "base_uri": "https://localhost:8080/",
          "height": 295
        },
        "id": "hxRgS2lr7Eqc",
        "outputId": "668c106e-1ca2-4f51-8158-15fb0d1d2e81"
      },
      "execution_count": 153,
      "outputs": [
        {
          "output_type": "display_data",
          "data": {
            "text/plain": [
              "<Figure size 432x288 with 1 Axes>"
            ],
            "image/png": "[encoded data removed]"
          },
          "metadata": {
            "needs_background": "light"
          }
        }
      ]
    }
  ]
}