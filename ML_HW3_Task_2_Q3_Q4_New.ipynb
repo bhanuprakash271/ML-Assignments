{
  "nbformat": 4,
  "nbformat_minor": 0,
  "metadata": {
    "colab": {
      "provenance": []
    },
    "kernelspec": {
      "name": "python3",
      "display_name": "Python 3"
    },
    "language_info": {
      "name": "python"
    }
  },
  "cells": [
    {
      "cell_type": "code",
      "execution_count": 1,
      "metadata": {
        "id": "2hx8p_FvAb8q"
      },
      "outputs": [],
      "source": [
        "import math\n",
        "import random\n",
        "import time\n",
        "import pandas as pd\n",
        "import numpy as np\n",
        "import matplotlib.pyplot as plt"
      ]
    },
    {
      "cell_type": "code",
      "source": [
        "def isValidNumberString(s):\n",
        "  if len(s) == 0:\n",
        "    return False\n",
        "  if  len(s) > 1 and s[0] == \"-\":\n",
        "      s = s[1:]\n",
        "  for c in s:\n",
        "    if c not in \"0123456789.\":\n",
        "      return False\n",
        "  return True\n"
      ],
      "metadata": {
        "id": "sV_v2DATDK9m"
      },
      "execution_count": 2,
      "outputs": []
    },
    {
      "cell_type": "code",
      "source": [
        "def stringsToNumbers(myList):\n",
        "    for i in range(len(myList)):\n",
        "        if (isValidNumberString(myList[i])):\n",
        "            myList[i] = float(myList[i])"
      ],
      "metadata": {
        "id": "ny_BvxtoDF4-"
      },
      "execution_count": 3,
      "outputs": []
    },
    {
      "cell_type": "code",
      "source": [
        "def lineToTuple(line):\n",
        "    # remove leading/trailing witespace and newlines\n",
        "    cleanLine = line.strip()\n",
        "    # get rid of quotes\n",
        "    cleanLine = cleanLine.replace('\"', '')\n",
        "    # separate the fields\n",
        "    lineList = cleanLine.split(\",\")\n",
        "    # convert strings into numbers\n",
        "    stringsToNumbers(lineList)\n",
        "    lineTuple = tuple(lineList)\n",
        "    return lineTuple"
      ],
      "metadata": {
        "id": "RE2ktIDeDC_L"
      },
      "execution_count": 4,
      "outputs": []
    },
    {
      "cell_type": "code",
      "source": [
        "def loadCSV(fileName):\n",
        "    fileHandler = open(fileName, \"rt\")\n",
        "    lines = fileHandler.readlines()\n",
        "    fileHandler.close()\n",
        "    del lines[0] # remove the header\n",
        "    dataset = []\n",
        "    for line in lines:\n",
        "        instance = lineToTuple(line)\n",
        "        dataset.append(instance)\n",
        "    return dataset"
      ],
      "metadata": {
        "id": "w78E9ULQC0ev"
      },
      "execution_count": 5,
      "outputs": []
    },
    {
      "cell_type": "code",
      "source": [
        "def printTable(instances):\n",
        "    for instance in instances:\n",
        "        if instance != None:\n",
        "            line = instance[0] + \"\\t\"\n",
        "            for i in range(1, len(instance)):\n",
        "                line += \"%.2f \" % instance[i]\n",
        "            print(line)"
      ],
      "metadata": {
        "id": "AGmt9uNZSwg5"
      },
      "execution_count": 6,
      "outputs": []
    },
    {
      "cell_type": "code",
      "source": [
        "def extractAttribute(instances, index):\n",
        "    result = []\n",
        "    for instance in instances:\n",
        "        result.append(instance[index])\n",
        "    return result\n"
      ],
      "metadata": {
        "id": "3ZhVLni4Sx23"
      },
      "execution_count": 7,
      "outputs": []
    },
    {
      "cell_type": "code",
      "source": [
        "def euclidean_distance(instance1, instance2):\n",
        "    if instance1 == None or instance2 == None:\n",
        "        return float(\"inf\")\n",
        "    distance = 0\n",
        "    for i in range(1, len(instance1)):\n",
        "        distance += (instance1[i] - instance2[i])**2\n",
        "    return math.sqrt(distance)"
      ],
      "metadata": {
        "id": "kzgWasbLC4iz"
      },
      "execution_count": 8,
      "outputs": []
    },
    {
      "cell_type": "code",
      "source": [
        "def cosine_distance(instance1, instance2):\n",
        "  if instance1 == None or instance2 == None:\n",
        "        return float(\"inf\")\n",
        "  A = np.array(instance1[1:],dtype=float)\n",
        "  B = np.array(instance2[1:],dtype=float)\n",
        "  distance = 1 - np.dot(A,B)/(np.linalg.norm(A)*np.linalg.norm(B))\n",
        "  return distance"
      ],
      "metadata": {
        "id": "awEhCd-bvPI2"
      },
      "execution_count": 9,
      "outputs": []
    },
    {
      "cell_type": "code",
      "source": [
        "def jaccard(instance1, instance2):\n",
        "  if instance1 == None or instance2 == None:\n",
        "        return float(\"inf\")\n",
        "  A = np.array(instance1[1:],dtype=float)\n",
        "  B = np.array(instance2[1:],dtype=float)\n",
        "  return 1 - (np.sum(np.minimum(A,B), axis = 0)/np.sum(np.maximum(A, B), axis = 0)) "
      ],
      "metadata": {
        "id": "hT6zgRGO0M5q"
      },
      "execution_count": 10,
      "outputs": []
    },
    {
      "cell_type": "code",
      "source": [
        "def calculateSSE(instance1, instance2):\n",
        "    if instance1 == None or instance2 == None:\n",
        "        return float(\"inf\")\n",
        "    sumOfSquares = 0\n",
        "    for i in range(1, len(instance1)):\n",
        "        sumOfSquares += (instance1[i] - instance2[i])**2\n",
        "    return sumOfSquares"
      ],
      "metadata": {
        "id": "rXQ2NR8wafNd"
      },
      "execution_count": 11,
      "outputs": []
    },
    {
      "cell_type": "code",
      "source": [
        "def meanInstance(name, instanceList):\n",
        "    numInstances = len(instanceList)\n",
        "    if (numInstances == 0):\n",
        "        return\n",
        "    numAttributes = len(instanceList[0])\n",
        "    means = [name] + [0] * (numAttributes-1)\n",
        "    for instance in instanceList:\n",
        "        for i in range(1, numAttributes):\n",
        "            means[i] += instance[i]\n",
        "    for i in range(1, numAttributes):\n",
        "        means[i] /= float(numInstances)\n",
        "    return tuple(means)"
      ],
      "metadata": {
        "id": "kSoEYPPiSQbw"
      },
      "execution_count": 12,
      "outputs": []
    },
    {
      "cell_type": "code",
      "source": [
        "def assign(instance, centroids, dist_func):\n",
        "  if(dist_func == \"Euclidean\"):\n",
        "    minDistance = euclidean_distance(instance, centroids[0])\n",
        "  elif(dist_func == \"Cosine\"):\n",
        "    minDistance = cosine_distance(instance, centroids[0])\n",
        "  else:\n",
        "    minDistance = jaccard(instance, centroids[0])\n",
        "\n",
        "  minDistanceIndex = 0\n",
        "  for i in range(1, len(centroids)):\n",
        "      if(dist_func == \"Euclidean\"):\n",
        "        d = euclidean_distance(instance, centroids[i])\n",
        "      elif(dist_func == \"Cosine\"):\n",
        "        d = cosine_distance(instance, centroids[i])\n",
        "      else:\n",
        "        d = jaccard(instance, centroids[i])\n",
        "      if (d < minDistance):\n",
        "          minDistance = d\n",
        "          minDistanceIndex = i\n",
        "  return minDistanceIndex"
      ],
      "metadata": {
        "id": "4xTBOfCrSQ9Q"
      },
      "execution_count": 13,
      "outputs": []
    },
    {
      "cell_type": "code",
      "source": [
        "def createEmptyListOfLists(numSubLists):\n",
        "    myList = []\n",
        "    for i in range(numSubLists):\n",
        "        myList.append([])\n",
        "    return myList"
      ],
      "metadata": {
        "id": "OyzWrqZBSSp6"
      },
      "execution_count": 14,
      "outputs": []
    },
    {
      "cell_type": "code",
      "source": [
        "def assignAll(instances, centroids, dist_func):\n",
        "    clusters = createEmptyListOfLists(len(centroids))\n",
        "    for instance in instances:\n",
        "        clusterIndex = assign(instance, centroids, dist_func)\n",
        "        clusters[clusterIndex].append(instance)\n",
        "    return clusters"
      ],
      "metadata": {
        "id": "W5-J17pFST9Q"
      },
      "execution_count": 15,
      "outputs": []
    },
    {
      "cell_type": "code",
      "source": [
        "def computeCentroids(clusters):\n",
        "    centroids = []\n",
        "    for i in range(len(clusters)):\n",
        "        name = \"centroid\" + str(i)\n",
        "        centroid = meanInstance(name, clusters[i])\n",
        "        centroids.append(centroid)\n",
        "    return centroids"
      ],
      "metadata": {
        "id": "02xforyvSVWr"
      },
      "execution_count": 16,
      "outputs": []
    },
    {
      "cell_type": "code",
      "source": [
        "\n",
        "def kmeans(instances, k, dist_func,centroid_poistion,sse_check,max_iterations,iteration_check,initCentroids=None):\n",
        "\n",
        "    result = {}\n",
        "    sse_list=[]\n",
        "    if (initCentroids == None or len(initCentroids) < k):\n",
        "        # randomly select k initial centroids\n",
        "        random.seed(time.time())\n",
        "        centroids = random.sample(instances, k)\n",
        "    else:\n",
        "        centroids = initCentroids\n",
        "    prevCentroids = []\n",
        "\n",
        "    iteration = 0\n",
        "    start = time.time()\n",
        "    while (iteration < 150):\n",
        "      \n",
        "        if(iteration_check == True and iteration >= max_iterations):\n",
        "          break\n",
        "        if(centroid_poistion == True and centroids == prevCentroids):\n",
        "          break\n",
        "        iteration += 1\n",
        "        clusters = assignAll(instances, centroids,dist_func)\n",
        "\n",
        "        prevCentroids = centroids\n",
        "        centroids = computeCentroids(clusters)\n",
        "        sse = computeWithinss(clusters, centroids)\n",
        "\n",
        "        if(sse_check == True and iteration>1 and sse_list[-1]<sse):\n",
        "          break\n",
        "\n",
        "        sse_list.append(sse)\n",
        "\n",
        "    result[\"clusters\"] = clusters\n",
        "    result[\"centroids\"] = centroids\n",
        "    result[\"withinss\"] = sse\n",
        "    result[\"SSE\"] = sse_list\n",
        "    result[\"iterations\"] = iteration\n",
        "    print(\"Time taken:\", time.time() - start)\n",
        "    return result"
      ],
      "metadata": {
        "id": "ahTmGdJ8SZ-c"
      },
      "execution_count": 17,
      "outputs": []
    },
    {
      "cell_type": "code",
      "source": [
        "def computeWithinss(clusters, centroids):\n",
        "    result = 0\n",
        "    for i in range(len(centroids)):\n",
        "        centroid = centroids[i]\n",
        "        cluster = clusters[i]\n",
        "        for instance in cluster:\n",
        "            result += calculateSSE(centroid, instance)\n",
        "    return result\n"
      ],
      "metadata": {
        "id": "vXO6A1s7Sc1S"
      },
      "execution_count": 18,
      "outputs": []
    },
    {
      "cell_type": "code",
      "source": [
        "dataset = loadCSV(\"data.csv\")\n",
        "\n",
        "print(f'===== when there is no change in centroid position =====')\n",
        "\n",
        "print(f'===== Euclidean =====')\n",
        "euclidean_clustering = kmeans(dataset, 10,\"Euclidean\",True,False,0,False)\n",
        "print(f'Total no of iterations: ',euclidean_clustering[\"iterations\"])\n",
        "print(f'List of SSE: ',euclidean_clustering[\"SSE\"])\n",
        "\n",
        "print(f'===== Cosine =====')\n",
        "cosine_clustering = kmeans(dataset, 10,\"Cosine\",True,False,0,False)\n",
        "print(f'Total no of iterations: ',cosine_clustering[\"iterations\"])\n",
        "print(f'List of SSE: ',cosine_clustering[\"SSE\"])\n",
        "\n",
        "print(f'===== Jaccard =====')\n",
        "jaccard_clustering = kmeans(dataset, 10,\"Jaccard\",True,False,0,False)\n",
        "print(f'Total no of iterations: ',jaccard_clustering[\"iterations\"])\n",
        "print(f'List of SSE: ',jaccard_clustering[\"SSE\"])\n"
      ],
      "metadata": {
        "id": "5tx2v5DiSgBj",
        "colab": {
          "base_uri": "https://localhost:8080/"
        },
        "outputId": "7c88bc9c-04aa-4861-f42a-05ed9127e2c0"
      },
      "execution_count": 19,
      "outputs": [
        {
          "output_type": "stream",
          "name": "stdout",
          "text": [
            "===== when there is no change in centroid position =====\n",
            "===== Euclidean =====\n",
            "Time taken: 964.9060289859772\n",
            "Total no of iterations:  67\n",
            "List of SSE:  [27892919446.536312, 26614618605.66253, 26184671652.94257, 25862830753.71948, 25629963670.831253, 25527686059.575943, 25478949995.604366, 25439503832.494385, 25402403194.16848, 25375474962.70242, 25364233294.81886, 25358376809.030697, 25354998815.53845, 25352909911.077637, 25351605460.714413, 25350583299.138268, 25349740467.964207, 25349077796.13816, 25348363736.671185, 25347467151.138653, 25346888131.864235, 25346374626.241108, 25346062128.63552, 25345810463.644432, 25345525609.92714, 25345281022.352077, 25345009297.937447, 25344806838.09144, 25344677279.608223, 25344506619.910557, 25344372072.67427, 25344258123.502197, 25344188985.890694, 25344066928.056168, 25343819982.30337, 25342925047.576782, 25341631687.92038, 25339767822.315895, 25337844490.28351, 25335301077.715187, 25332362380.6131, 25328469142.291542, 25324951715.94926, 25322428997.27538, 25320394498.588776, 25319300401.6792, 25318862410.664795, 25318608057.30023, 25318238557.97423, 25318013678.869556, 25317917382.784576, 25317801346.500076, 25317726917.50264, 25317682036.190514, 25317626721.492706, 25317591531.81559, 25317541516.399227, 25317492920.023083, 25317449933.98291, 25317373255.146706, 25317330282.09808, 25317294777.405025, 25317264854.793022, 25317243093.99159, 25317227238.587772, 25317215407.70549, 25317215407.70549]\n",
            "===== Cosine =====\n",
            "Time taken: 535.1189901828766\n",
            "Total no of iterations:  41\n",
            "List of SSE:  [28925101168.43117, 27435526064.327053, 26752826511.348568, 26182878778.64689, 25894602877.415066, 25788655784.32355, 25725538407.74673, 25669280937.950478, 25632301033.256287, 25604012857.622234, 25584308716.594517, 25572338010.273605, 25565635019.680454, 25561505211.418083, 25559600551.193275, 25558088610.692062, 25556976852.650654, 25555796311.308315, 25554065523.522476, 25553951819.52407, 25553736570.690857, 25552459779.300766, 25551869582.16325, 25551730804.226757, 25552094386.40224, 25552219707.28594, 25551965605.527676, 25551975890.0476, 25552228918.13992, 25552254578.008686, 25552369559.560104, 25552320538.83075, 25552313881.379005, 25552256101.77107, 25552178635.774906, 25552194557.841095, 25552173051.64171, 25552086429.621304, 25552084789.19235, 25552078372.737587, 25552078372.737587]\n",
            "===== Jaccard =====\n",
            "Time taken: 368.52833914756775\n",
            "Total no of iterations:  31\n",
            "List of SSE:  [28338653528.23942, 27119448683.277958, 26495195944.87815, 26121784578.095577, 25910597383.762352, 25768129153.312374, 25654659688.197716, 25576894229.98017, 25522250512.80436, 25476415857.469364, 25442987549.56651, 25432168930.13419, 25424590289.172173, 25420270426.664585, 25416283538.156673, 25415304237.757797, 25414919984.553776, 25413250933.894154, 25411780674.558014, 25411042067.74275, 25411504957.138123, 25411821605.901936, 25412084755.265076, 25411944275.927887, 25411783415.48954, 25412149559.433502, 25413123980.24675, 25413361119.57238, 25413457585.0173, 25413409160.41019, 25413409160.41019]\n"
          ]
        }
      ]
    },
    {
      "cell_type": "code",
      "source": [
        "\n",
        "print(f'===== when the SSE value increases in the next iteration =====')\n",
        "\n",
        "print(f'===== Euclidean =====')\n",
        "euclidean_clustering = kmeans(dataset, 10,\"Euclidean\",False,True,0,False)\n",
        "print(f'Total no of iterations: ',euclidean_clustering[\"iterations\"])\n",
        "print(f'List of SSE: ',euclidean_clustering[\"SSE\"])\n",
        "\n",
        "\n",
        "print(f'===== Cosine =====')\n",
        "cosine_clustering = kmeans(dataset, 10,\"Cosine\",False,True,0,False)\n",
        "print(f'Total no of iterations: ',cosine_clustering[\"iterations\"])\n",
        "print(f'List of SSE: ',cosine_clustering[\"SSE\"])\n",
        "\n",
        "print(f'===== Jaccard =====')\n",
        "jaccard_clustering = kmeans(dataset, 10,\"Jaccard\",False,True,0,False)\n",
        "print(f'Total no of iterations: ',jaccard_clustering[\"iterations\"])\n",
        "print(f'List of SSE: ',jaccard_clustering[\"SSE\"])\n"
      ],
      "metadata": {
        "id": "d18UePVyA5ua",
        "colab": {
          "base_uri": "https://localhost:8080/"
        },
        "outputId": "331d8fbc-9b36-4eeb-dc17-6e615cdb7979"
      },
      "execution_count": 20,
      "outputs": [
        {
          "output_type": "stream",
          "name": "stdout",
          "text": [
            "===== when the SSE value increases in the next iteration =====\n",
            "===== Euclidean =====\n",
            "Time taken: 2164.0752630233765\n",
            "Total no of iterations:  150\n",
            "List of SSE:  [28561293397.083687, 27047442989.234898, 26418164942.19173, 26049276687.86183, 25851048575.106728, 25766746018.83552, 25720499605.394295, 25688320739.271164, 25659041229.629032, 25626402747.65079, 25587394840.586334, 25555384138.43186, 25530225432.784584, 25514719649.932724, 25505878116.9922, 25500037427.616024, 25496193183.523037, 25492940029.92607, 25489617459.371017, 25485091346.241776, 25480343244.67632, 25475887935.84032, 25471656049.11929, 25467361293.326023, 25462302868.74123, 25456679125.741367, 25450523949.76182, 25444334929.805885, 25437141940.250347, 25432291899.85764, 25429045356.669598, 25426525411.5226, 25423296217.400444, 25419977039.22829, 25417901342.898872, 25415552298.127274, 25413731879.990845, 25412208443.748863, 25410792012.399033, 25409734709.2152, 25408901677.694344, 25407886977.60137, 25407204136.954548, 25406847719.5668, 25406611799.83268, 25406413246.55404, 25406344373.33236, 25406252732.314888, 25406196558.40057, 25406184576.73907, 25406169008.66157, 25406145414.889927, 25406136684.2428, 25406100689.05256, 25406027368.470657, 25405996925.836704, 25405992083.96785, 25405987018.18154, 25405966367.14944, 25405958332.44184, 25405958332.44184, 25405958332.44184, 25405958332.44184, 25405958332.44184, 25405958332.44184, 25405958332.44184, 25405958332.44184, 25405958332.44184, 25405958332.44184, 25405958332.44184, 25405958332.44184, 25405958332.44184, 25405958332.44184, 25405958332.44184, 25405958332.44184, 25405958332.44184, 25405958332.44184, 25405958332.44184, 25405958332.44184, 25405958332.44184, 25405958332.44184, 25405958332.44184, 25405958332.44184, 25405958332.44184, 25405958332.44184, 25405958332.44184, 25405958332.44184, 25405958332.44184, 25405958332.44184, 25405958332.44184, 25405958332.44184, 25405958332.44184, 25405958332.44184, 25405958332.44184, 25405958332.44184, 25405958332.44184, 25405958332.44184, 25405958332.44184, 25405958332.44184, 25405958332.44184, 25405958332.44184, 25405958332.44184, 25405958332.44184, 25405958332.44184, 25405958332.44184, 25405958332.44184, 25405958332.44184, 25405958332.44184, 25405958332.44184, 25405958332.44184, 25405958332.44184, 25405958332.44184, 25405958332.44184, 25405958332.44184, 25405958332.44184, 25405958332.44184, 25405958332.44184, 25405958332.44184, 25405958332.44184, 25405958332.44184, 25405958332.44184, 25405958332.44184, 25405958332.44184, 25405958332.44184, 25405958332.44184, 25405958332.44184, 25405958332.44184, 25405958332.44184, 25405958332.44184, 25405958332.44184, 25405958332.44184, 25405958332.44184, 25405958332.44184, 25405958332.44184, 25405958332.44184, 25405958332.44184, 25405958332.44184, 25405958332.44184, 25405958332.44184, 25405958332.44184, 25405958332.44184, 25405958332.44184, 25405958332.44184, 25405958332.44184, 25405958332.44184, 25405958332.44184, 25405958332.44184, 25405958332.44184, 25405958332.44184, 25405958332.44184]\n",
            "===== Cosine =====\n",
            "Time taken: 545.5607516765594\n",
            "Total no of iterations:  42\n",
            "List of SSE:  [28001712201.8261, 26842334868.007267, 26528469326.701374, 26387920764.131832, 26326939159.526257, 26289495958.405266, 26236547465.65256, 26157272416.767338, 26059970830.088707, 25964162302.04487, 25894457554.583904, 25833645011.734882, 25779039828.424816, 25729324182.759697, 25694536509.56386, 25670558237.950203, 25658722975.524693, 25649707975.385624, 25644349942.102047, 25639947309.820305, 25634315181.275978, 25628972190.4691, 25619764136.561012, 25610228759.749115, 25608146682.88014, 25603020978.126476, 25598928724.678585, 25594086150.78236, 25588712729.11, 25582513027.750973, 25578450018.98187, 25574695927.816807, 25573202931.96245, 25571392272.589317, 25570191628.493065, 25565946912.991917, 25563044469.294468, 25560058357.622715, 25558030213.89491, 25557888512.194164, 25555894885.374622]\n",
            "===== Jaccard =====\n",
            "Time taken: 283.23011207580566\n",
            "Total no of iterations:  24\n",
            "List of SSE:  [28600303328.40131, 27315925632.419174, 26717637388.40557, 26156106094.603, 25915987459.05554, 25758379810.913498, 25656750002.265884, 25603663148.72876, 25578915054.879536, 25556778886.325104, 25533173549.192078, 25512487435.48222, 25491618220.88403, 25468262209.267788, 25454910547.290504, 25441214808.995625, 25426993491.906178, 25423714087.59166, 25420743526.372345, 25417660624.136215, 25417102773.82808, 25416447526.446728, 25415665003.661087]\n"
          ]
        }
      ]
    },
    {
      "cell_type": "code",
      "source": [
        "\n",
        "print(f'===== when the maximum preset value is 100 =====')\n",
        "\n",
        "print(f'===== Euclidean =====')\n",
        "euclidean_clustering = kmeans(dataset, 10,\"Euclidean\",False,False,100,True)\n",
        "print(f'Total no of iterations: ',euclidean_clustering[\"iterations\"])\n",
        "print(f'List of SSE: ',euclidean_clustering[\"SSE\"])\n",
        "\n",
        "\n",
        "print(f'===== Cosine =====')\n",
        "cosine_clustering = kmeans(dataset, 10,\"Cosine\",False,False,100,True)\n",
        "print(f'Total no of iterations: ',cosine_clustering[\"iterations\"])\n",
        "print(f'List of SSE: ',cosine_clustering[\"SSE\"])\n",
        "\n",
        "\n",
        "print(f'===== Jaccard =====')\n",
        "jaccard_clustering = kmeans(dataset, 10,\"Jaccard\",False,False,100,True)\n",
        "print(f'Total no of iterations: ',jaccard_clustering[\"iterations\"])\n",
        "print(f'List of SSE: ',jaccard_clustering[\"SSE\"])\n"
      ],
      "metadata": {
        "colab": {
          "base_uri": "https://localhost:8080/"
        },
        "id": "oieodewY26Nk",
        "outputId": "c09620bf-fc45-4c2d-b80d-337deaed4f84"
      },
      "execution_count": 21,
      "outputs": [
        {
          "output_type": "stream",
          "name": "stdout",
          "text": [
            "===== when the maximum preset value is 100 =====\n",
            "===== Euclidean =====\n",
            "Time taken: 1424.8652386665344\n",
            "Total no of iterations:  100\n",
            "List of SSE:  [28448945225.097084, 26597697587.747326, 25995542335.200573, 25673243713.453224, 25510584656.856045, 25432231949.238247, 25393088820.69145, 25371463513.124817, 25354591819.13281, 25343389387.072723, 25335639326.386143, 25332140194.738785, 25331090646.690796, 25330251937.131596, 25328762368.20927, 25327408465.915943, 25326069236.445236, 25325170287.73303, 25324742933.785206, 25324284909.086464, 25323974919.094856, 25323683444.50648, 25323466714.312508, 25323369784.13907, 25323274304.25482, 25323233374.66408, 25323146056.10532, 25323105998.999126, 25323097038.17852, 25323092128.863255, 25323076878.49686, 25323033945.369762, 25322969719.223305, 25322839847.324844, 25322765628.963665, 25322671519.07538, 25322569766.37631, 25322481256.945957, 25322402504.395775, 25322173347.089725, 25321880466.09193, 25321562863.207344, 25321369484.457355, 25320984565.00892, 25320637606.934196, 25320472385.40708, 25320362433.849728, 25320264624.188038, 25320104394.340202, 25320006418.542908, 25320000609.489876, 25320000609.489876, 25320000609.489876, 25320000609.489876, 25320000609.489876, 25320000609.489876, 25320000609.489876, 25320000609.489876, 25320000609.489876, 25320000609.489876, 25320000609.489876, 25320000609.489876, 25320000609.489876, 25320000609.489876, 25320000609.489876, 25320000609.489876, 25320000609.489876, 25320000609.489876, 25320000609.489876, 25320000609.489876, 25320000609.489876, 25320000609.489876, 25320000609.489876, 25320000609.489876, 25320000609.489876, 25320000609.489876, 25320000609.489876, 25320000609.489876, 25320000609.489876, 25320000609.489876, 25320000609.489876, 25320000609.489876, 25320000609.489876, 25320000609.489876, 25320000609.489876, 25320000609.489876, 25320000609.489876, 25320000609.489876, 25320000609.489876, 25320000609.489876, 25320000609.489876, 25320000609.489876, 25320000609.489876, 25320000609.489876, 25320000609.489876, 25320000609.489876, 25320000609.489876, 25320000609.489876, 25320000609.489876, 25320000609.489876]\n",
            "===== Cosine =====\n",
            "Time taken: 1249.4605898857117\n",
            "Total no of iterations:  100\n",
            "List of SSE:  [29465169253.097942, 27046714148.982433, 26340058951.494293, 26049054361.813976, 25908626003.699398, 25817169787.585724, 25747785662.52914, 25683457275.022358, 25639838972.09065, 25606268118.826317, 25580637586.34449, 25565238353.79366, 25551380940.076485, 25537527092.289383, 25528081281.148815, 25517376863.92466, 25510054066.71786, 25505447977.88142, 25501627616.189693, 25498408911.14535, 25497421642.06683, 25497440723.938732, 25495054675.55738, 25494549889.73667, 25493451742.158325, 25494193687.281895, 25493634100.669277, 25493497848.660797, 25493961100.399914, 25492687683.83043, 25491236371.491673, 25489038578.89742, 25489885040.86832, 25489184453.02021, 25487779089.897545, 25488743337.41373, 25487840125.37928, 25487748329.751205, 25487257225.755665, 25487025833.588764, 25488952967.759888, 25488645196.003582, 25487093173.737217, 25485403232.841854, 25484846499.60645, 25483645242.646217, 25483031750.111153, 25480214545.569077, 25479797080.549446, 25479083871.52076, 25479277505.05378, 25479230742.279293, 25478689051.837135, 25478419549.914116, 25478087282.843746, 25478589028.953667, 25477681813.80073, 25477983792.376427, 25476082398.23489, 25476063784.939404, 25475782615.262238, 25474644586.443775, 25474007473.47616, 25473282200.38481, 25473011706.399303, 25472257519.999676, 25470884802.86588, 25470406572.810898, 25470399630.565483, 25470498443.159523, 25470175844.52455, 25470458031.80482, 25469987282.196724, 25469421382.77417, 25468838486.048004, 25467218508.400635, 25468322964.815292, 25467654769.650646, 25467619440.070427, 25467227359.567986, 25467153443.677856, 25467545744.40341, 25467523326.524166, 25467083447.951424, 25467083447.951424, 25467083447.951424, 25467083447.951424, 25467083447.951424, 25467083447.951424, 25467083447.951424, 25467083447.951424, 25467083447.951424, 25467083447.951424, 25467083447.951424, 25467083447.951424, 25467083447.951424, 25467083447.951424, 25467083447.951424, 25467083447.951424, 25467083447.951424]\n",
            "===== Jaccard =====\n",
            "Time taken: 1150.9876482486725\n",
            "Total no of iterations:  100\n",
            "List of SSE:  [28146082097.877632, 26984163641.856655, 26641009169.59582, 26424043066.623283, 26288859164.27026, 26195302667.927162, 26077777291.201492, 25962190269.968548, 25838264867.09542, 25730776020.547436, 25652997651.670666, 25598025811.258026, 25554846281.814426, 25527046460.99903, 25503544191.130154, 25486403282.15435, 25471925747.974976, 25462852288.42261, 25457620508.45068, 25454382704.5352, 25449724814.02226, 25442444039.468243, 25437403595.588966, 25434380388.129223, 25431359705.859783, 25428385700.69079, 25426003256.687515, 25426010833.254906, 25425194592.84894, 25425431790.036236, 25424827272.386303, 25426325268.195095, 25426964581.372574, 25427459846.551754, 25426215331.295116, 25425065934.482487, 25424523399.94778, 25424593497.045437, 25423248061.413116, 25422080018.229263, 25421490601.884937, 25421024983.66657, 25420689998.361725, 25420680732.56022, 25418857954.103664, 25417853641.22493, 25418151051.59186, 25419807380.454193, 25419128884.32978, 25419877839.451332, 25419520600.35723, 25419115061.80046, 25417864683.537262, 25415862600.87268, 25415252879.107822, 25414806909.935516, 25414819460.748955, 25415039698.536392, 25414844024.23288, 25415356429.2354, 25415292604.371334, 25415223770.365047, 25415223770.365047, 25415223770.365047, 25415223770.365047, 25415223770.365047, 25415223770.365047, 25415223770.365047, 25415223770.365047, 25415223770.365047, 25415223770.365047, 25415223770.365047, 25415223770.365047, 25415223770.365047, 25415223770.365047, 25415223770.365047, 25415223770.365047, 25415223770.365047, 25415223770.365047, 25415223770.365047, 25415223770.365047, 25415223770.365047, 25415223770.365047, 25415223770.365047, 25415223770.365047, 25415223770.365047, 25415223770.365047, 25415223770.365047, 25415223770.365047, 25415223770.365047, 25415223770.365047, 25415223770.365047, 25415223770.365047, 25415223770.365047, 25415223770.365047, 25415223770.365047, 25415223770.365047, 25415223770.365047, 25415223770.365047, 25415223770.365047]\n"
          ]
        }
      ]
    },
    {
      "cell_type": "code",
      "source": [],
      "metadata": {
        "id": "f67WcLp6Og_9"
      },
      "execution_count": 21,
      "outputs": []
    },
    {
      "cell_type": "code",
      "source": [],
      "metadata": {
        "id": "2a4aRBzeNZPL"
      },
      "execution_count": 21,
      "outputs": []
    }
  ]
}